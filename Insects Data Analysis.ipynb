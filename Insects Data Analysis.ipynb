{
 "cells": [
  {
   "cell_type": "markdown",
   "metadata": {},
   "source": [
    "<img src=\"blackcoffer.png\" align=\"left\">\n",
    "\n",
    "\n",
    "\n",
    "\n",
    "\n",
    "\n",
    "\n",
    "\n"
   ]
  },
  {
   "cell_type": "markdown",
   "metadata": {},
   "source": [
    "\n",
    "#            \"BlackCoffer\" Insect Data Analysis"
   ]
  },
  {
   "cell_type": "code",
   "execution_count": 1,
   "metadata": {},
   "outputs": [],
   "source": [
    "import pandas;\n",
    "df=pandas.read_csv(\"data factorial expe.csv\")\n",
    "class seasons:\n",
    "    def dbm(self,frame):\n",
    "        self.dbm=frame;\n",
    "        \n",
    "    def getdbm(self):\n",
    "        return self.dbm\n",
    "    \n",
    "    def aphid(self,frame):\n",
    "        self.aphid=frame;\n",
    "        \n",
    "    def getaphid(self):\n",
    "        return self.aphid\n",
    "    def whitefly(self,frame):\n",
    "        self.whitefly=frame;\n",
    "    def getwhitefly(self):\n",
    "        return self.whitefly;\n",
    "    def hellula(self,frame):\n",
    "        self.hellula=frame;\n",
    "    def gethellula(self):\n",
    "        return self.hellula;\n",
    "    \n",
    "    def spider(self,frame):\n",
    "        self.spider=frame;\n",
    "    def getspider(self):\n",
    "        return self.spider;\n",
    "    \n",
    "    def ladybird(self,frame):\n",
    "        self.ladybird=frame;\n",
    "    def getladybird(self):\n",
    "        return self.ladybird;\n",
    "    \n",
    "    def hoverfly(self,frame):\n",
    "        self.hoverfly=frame;\n",
    "    def gethoverfly(self):\n",
    "        return self.hoverfly\n",
    "    \n",
    "    def plantsyield(self,frame):\n",
    "        self.plantsyield=frame;\n",
    "    def getyields(self):\n",
    "        return self.plantsyield\n",
    "    def renamedbm(self):\n",
    "    \n",
    "        self.dbm.rename(columns={'dbm': 'plants'}, inplace=True)\n",
    "\n",
    "        self.dbm.rename(columns={'Unnamed: 1': 'attacktype'}, inplace=True)\n",
    "        self.dbm.rename(columns={'seaon one':'wk1','Unnamed: 3':'wk2','Unnamed: 4':'wk3','Unnamed: 5':'wk4'},inplace=True)\n",
    "    \n",
    "    \n",
    "season1=seasons();   \n",
    "\n",
    "\n",
    "#insects={\"dbm\":}\n",
    "\n"
   ]
  },
  {
   "cell_type": "code",
   "execution_count": 2,
   "metadata": {},
   "outputs": [
    {
     "name": "stderr",
     "output_type": "stream",
     "text": [
      "/usr/lib/python3/dist-packages/pandas/core/frame.py:3027: SettingWithCopyWarning: \n",
      "A value is trying to be set on a copy of a slice from a DataFrame\n",
      "\n",
      "See the caveats in the documentation: http://pandas.pydata.org/pandas-docs/stable/indexing.html#indexing-view-versus-copy\n",
      "  return super(DataFrame, self).rename(**kwargs)\n"
     ]
    }
   ],
   "source": [
    "\n",
    "\n",
    "\n",
    "#df[['plants','attacktype','wk1','wk2','wk3','wk4']]\n",
    "temp=df[['dbm','Unnamed: 1','seaon one','Unnamed: 3','Unnamed: 4','Unnamed: 5']]\n",
    "temp\n",
    "season1.dbm(temp)\n",
    "season1.renamedbm()"
   ]
  },
  {
   "cell_type": "code",
   "execution_count": 3,
   "metadata": {},
   "outputs": [],
   "source": [
    "season1.getdbm()\n",
    "nameofcol=list(df)\n",
    "for i in nameofcol:\n",
    "    if i=='Aphid':\n",
    "        break;\n",
    "    del df[i]\n"
   ]
  },
  {
   "cell_type": "code",
   "execution_count": 4,
   "metadata": {},
   "outputs": [
    {
     "name": "stderr",
     "output_type": "stream",
     "text": [
      "/usr/lib/python3/dist-packages/pandas/core/frame.py:3027: SettingWithCopyWarning: \n",
      "A value is trying to be set on a copy of a slice from a DataFrame\n",
      "\n",
      "See the caveats in the documentation: http://pandas.pydata.org/pandas-docs/stable/indexing.html#indexing-view-versus-copy\n",
      "  return super(DataFrame, self).rename(**kwargs)\n"
     ]
    }
   ],
   "source": [
    "temp=df[['Aphid','Unnamed: 9','Unnamed: 10','Unnamed: 11','Unnamed: 12','Unnamed: 13']]\n",
    "\n",
    "temp.rename(columns={'Aphids': 'plants'}, inplace=True)\n",
    "\n",
    "temp.rename(columns={'Unnamed: 9': 'attacktype'}, inplace=True)\n",
    "temp.rename(columns={'Unnamed: 10':'wk1','Unnamed: 11':'wk2','Unnamed: 12':'wk3','Unnamed: 13':'wk4'},inplace=True)\n",
    "temp\n",
    "\n",
    "season1.aphid(temp)\n"
   ]
  },
  {
   "cell_type": "code",
   "execution_count": 5,
   "metadata": {},
   "outputs": [
    {
     "name": "stderr",
     "output_type": "stream",
     "text": [
      "/usr/lib/python3/dist-packages/pandas/core/frame.py:3027: SettingWithCopyWarning: \n",
      "A value is trying to be set on a copy of a slice from a DataFrame\n",
      "\n",
      "See the caveats in the documentation: http://pandas.pydata.org/pandas-docs/stable/indexing.html#indexing-view-versus-copy\n",
      "  return super(DataFrame, self).rename(**kwargs)\n"
     ]
    }
   ],
   "source": [
    "season1.getaphid()\n",
    "for i in list(df):\n",
    "    if i=='whitefly':\n",
    "        \n",
    "        break;\n",
    "    del df[i]\n",
    "    \n",
    "df\n",
    "\n",
    "temp=df[['whitefly','Unnamed: 16','wk1','wk2','wk3','wk4']]\n",
    "temp.rename(columns={'whitefly':'plants','Unnamed: 16':'attacktype'},inplace=True)\n",
    "season1.whitefly(temp)\n",
    "\n"
   ]
  },
  {
   "cell_type": "code",
   "execution_count": 6,
   "metadata": {},
   "outputs": [
    {
     "name": "stderr",
     "output_type": "stream",
     "text": [
      "/usr/lib/python3/dist-packages/pandas/core/frame.py:3027: SettingWithCopyWarning: \n",
      "A value is trying to be set on a copy of a slice from a DataFrame\n",
      "\n",
      "See the caveats in the documentation: http://pandas.pydata.org/pandas-docs/stable/indexing.html#indexing-view-versus-copy\n",
      "  return super(DataFrame, self).rename(**kwargs)\n"
     ]
    }
   ],
   "source": [
    "for i in list(df):\n",
    "    if i=='hellula':\n",
    "        break\n",
    "    del df[i]\n",
    "\n",
    "temp=df[['hellula','Unnamed: 23','wk1.1','wk2.1','wk3.1','wk4.1']]\n",
    "temp.rename(columns={'hellula':'plants','Unnamed: 23':'attacktype','wk1.1':'wk1','wk2.1':'wk2','wk3.1':'wk3','wk4.1':'wk4'},inplace=True)\n",
    "season1.hellula(temp)\n"
   ]
  },
  {
   "cell_type": "code",
   "execution_count": 7,
   "metadata": {},
   "outputs": [
    {
     "name": "stderr",
     "output_type": "stream",
     "text": [
      "/usr/lib/python3/dist-packages/pandas/core/frame.py:3027: SettingWithCopyWarning: \n",
      "A value is trying to be set on a copy of a slice from a DataFrame\n",
      "\n",
      "See the caveats in the documentation: http://pandas.pydata.org/pandas-docs/stable/indexing.html#indexing-view-versus-copy\n",
      "  return super(DataFrame, self).rename(**kwargs)\n"
     ]
    }
   ],
   "source": [
    "for i in list(df):\n",
    "    if i=='spider':\n",
    "        break;\n",
    "    del df[i]\n",
    "    \n",
    "temp=df[['spider','Unnamed: 30','wk1.2','wk2.2','wk3.2','wk4.2']]\n",
    "weeklist=['plants','attacktype','wk1','wk2','wk3','wk4']\n",
    "for i,j in zip(list(temp),weeklist):\n",
    "    temp.rename(columns={i:j},inplace=True)\n",
    "    \n",
    "season1.spider(temp);\n"
   ]
  },
  {
   "cell_type": "code",
   "execution_count": 8,
   "metadata": {},
   "outputs": [
    {
     "name": "stderr",
     "output_type": "stream",
     "text": [
      "/usr/lib/python3/dist-packages/pandas/core/frame.py:3027: SettingWithCopyWarning: \n",
      "A value is trying to be set on a copy of a slice from a DataFrame\n",
      "\n",
      "See the caveats in the documentation: http://pandas.pydata.org/pandas-docs/stable/indexing.html#indexing-view-versus-copy\n",
      "  return super(DataFrame, self).rename(**kwargs)\n"
     ]
    }
   ],
   "source": [
    "for i in list(df):\n",
    "    if i=='ladybird':\n",
    "        break;\n",
    "    del df[i]\n",
    "    \n",
    "temp=df[['ladybird','Unnamed: 37','wk1.3','wk2.3','wk3.3','wk4.3']]\n",
    "for i,j in zip(list(temp),weeklist):\n",
    "    temp.rename(columns={i:j},inplace=True)\n",
    "    \n",
    "season1.ladybird(temp)\n",
    "\n"
   ]
  },
  {
   "cell_type": "code",
   "execution_count": 9,
   "metadata": {},
   "outputs": [
    {
     "name": "stderr",
     "output_type": "stream",
     "text": [
      "/usr/lib/python3/dist-packages/pandas/core/frame.py:3027: SettingWithCopyWarning: \n",
      "A value is trying to be set on a copy of a slice from a DataFrame\n",
      "\n",
      "See the caveats in the documentation: http://pandas.pydata.org/pandas-docs/stable/indexing.html#indexing-view-versus-copy\n",
      "  return super(DataFrame, self).rename(**kwargs)\n"
     ]
    }
   ],
   "source": [
    "for i in list(df):\n",
    "    if i=='hoverfly':\n",
    "        break;\n",
    "    del df[i]\n",
    "temp=df[['hoverfly','Unnamed: 44','wk1.4','wk2.4','wk3.4','wk4.4']]\n",
    "for i,j in zip(list(temp),weeklist):\n",
    "    temp.rename(columns={i:j},inplace=True)\n",
    "    \n",
    "season1.hoverfly(temp)\n"
   ]
  },
  {
   "cell_type": "code",
   "execution_count": 10,
   "metadata": {},
   "outputs": [
    {
     "name": "stderr",
     "output_type": "stream",
     "text": [
      "/usr/lib/python3/dist-packages/pandas/core/frame.py:3027: SettingWithCopyWarning: \n",
      "A value is trying to be set on a copy of a slice from a DataFrame\n",
      "\n",
      "See the caveats in the documentation: http://pandas.pydata.org/pandas-docs/stable/indexing.html#indexing-view-versus-copy\n",
      "  return super(DataFrame, self).rename(**kwargs)\n"
     ]
    }
   ],
   "source": [
    "for i in list(df):\n",
    "    if i==\"yield\":\n",
    "        break;\n",
    "    del df[i]\n",
    "    \n",
    "temp=df[['yield','Unnamed: 52','yield/plant','Yield/ha','Holes/plant','Unmarketable yield','Marketable yield']]\n",
    "yieldlist=['plants','attacktype','yield/plant','Yield/ha','Holes/plant','Unmarketable yield','Marketable yield']\n",
    "for i,j in zip(list(temp),yieldlist):\n",
    "    temp.rename(columns={i:j},inplace=True)\n",
    "    \n",
    "    \n",
    "season1.plantsyield(temp)"
   ]
  },
  {
   "cell_type": "code",
   "execution_count": 11,
   "metadata": {},
   "outputs": [
    {
     "name": "stderr",
     "output_type": "stream",
     "text": [
      "/usr/lib/python3/dist-packages/pandas/core/frame.py:3027: SettingWithCopyWarning: \n",
      "A value is trying to be set on a copy of a slice from a DataFrame\n",
      "\n",
      "See the caveats in the documentation: http://pandas.pydata.org/pandas-docs/stable/indexing.html#indexing-view-versus-copy\n",
      "  return super(DataFrame, self).rename(**kwargs)\n"
     ]
    }
   ],
   "source": [
    "season1.getyields()\n",
    "for i in list(df):\n",
    "    if i=='SEASON TWO':\n",
    "        break;\n",
    "    del df[i]\n",
    "    \n",
    "temp=df[['SEASON TWO','Unnamed: 61','wk1.5','wk2.5','wk3.5','wk4.5']]\n",
    "for i,j in zip(list(temp),weeklist):\n",
    "    temp.rename(columns={i:j},inplace=True)\n",
    "    \n",
    "season2=seasons()\n",
    "season2.dbm(temp)\n"
   ]
  },
  {
   "cell_type": "code",
   "execution_count": 12,
   "metadata": {},
   "outputs": [
    {
     "name": "stderr",
     "output_type": "stream",
     "text": [
      "/usr/lib/python3/dist-packages/pandas/core/frame.py:3027: SettingWithCopyWarning: \n",
      "A value is trying to be set on a copy of a slice from a DataFrame\n",
      "\n",
      "See the caveats in the documentation: http://pandas.pydata.org/pandas-docs/stable/indexing.html#indexing-view-versus-copy\n",
      "  return super(DataFrame, self).rename(**kwargs)\n"
     ]
    }
   ],
   "source": [
    "for i in list(df):\n",
    "    if i=='Unnamed: 67':\n",
    "        break;\n",
    "    del df[i]\n",
    "temp=df[['Unnamed: 67','Unnamed: 68','Unnamed: 69','Unnamed: 70','Unnamed: 71','Unnamed: 72']]\n",
    "for i,j in zip(list(temp),weeklist):\n",
    "    temp.rename(columns={i:j},inplace=True)\n",
    "    \n",
    "season2.aphid(temp)\n"
   ]
  },
  {
   "cell_type": "code",
   "execution_count": 13,
   "metadata": {},
   "outputs": [
    {
     "name": "stderr",
     "output_type": "stream",
     "text": [
      "/usr/lib/python3/dist-packages/pandas/core/frame.py:3027: SettingWithCopyWarning: \n",
      "A value is trying to be set on a copy of a slice from a DataFrame\n",
      "\n",
      "See the caveats in the documentation: http://pandas.pydata.org/pandas-docs/stable/indexing.html#indexing-view-versus-copy\n",
      "  return super(DataFrame, self).rename(**kwargs)\n"
     ]
    }
   ],
   "source": [
    "for i in list(df):\n",
    "    if i=='Unnamed: 74':\n",
    "        break;\n",
    "    del df[i]\n",
    "temp=df[['Unnamed: 74','Unnamed: 75','Unnamed: 76','Unnamed: 77','Unnamed: 78','Unnamed: 79']]\n",
    "for i,j in zip(list(temp),weeklist):\n",
    "    temp.rename(columns={i:j},inplace=True)\n",
    "\n",
    "season2.whitefly(temp)"
   ]
  },
  {
   "cell_type": "code",
   "execution_count": 14,
   "metadata": {},
   "outputs": [
    {
     "name": "stderr",
     "output_type": "stream",
     "text": [
      "/usr/lib/python3/dist-packages/pandas/core/frame.py:3027: SettingWithCopyWarning: \n",
      "A value is trying to be set on a copy of a slice from a DataFrame\n",
      "\n",
      "See the caveats in the documentation: http://pandas.pydata.org/pandas-docs/stable/indexing.html#indexing-view-versus-copy\n",
      "  return super(DataFrame, self).rename(**kwargs)\n"
     ]
    }
   ],
   "source": [
    "for i in list(df):\n",
    "    if i=='Hellula':\n",
    "        break;\n",
    "    del df[i]\n",
    "temp=df[['Hellula','Unnamed: 82','Unnamed: 83','Unnamed: 84','Unnamed: 85','Unnamed: 86']]\n",
    "for i,j in zip(list(temp),weeklist):\n",
    "    temp.rename(columns={i:j},inplace=True)\n",
    "season2.hellula(temp)\n"
   ]
  },
  {
   "cell_type": "code",
   "execution_count": 15,
   "metadata": {},
   "outputs": [
    {
     "name": "stderr",
     "output_type": "stream",
     "text": [
      "/usr/lib/python3/dist-packages/pandas/core/frame.py:3027: SettingWithCopyWarning: \n",
      "A value is trying to be set on a copy of a slice from a DataFrame\n",
      "\n",
      "See the caveats in the documentation: http://pandas.pydata.org/pandas-docs/stable/indexing.html#indexing-view-versus-copy\n",
      "  return super(DataFrame, self).rename(**kwargs)\n"
     ]
    }
   ],
   "source": [
    "for i in list(df):\n",
    "    if i=='Unnamed: 88':\n",
    "        break;\n",
    "    del df[i]\n",
    "temp=df[['Unnamed: 88','Unnamed: 89','spiders','Unnamed: 91','Unnamed: 92','Unnamed: 93']]\n",
    "for i,j in zip(list(temp),weeklist):\n",
    "    temp.rename(columns={i:j},inplace=True)\n",
    "    \n",
    "season2.spider(temp)\n"
   ]
  },
  {
   "cell_type": "code",
   "execution_count": 16,
   "metadata": {},
   "outputs": [
    {
     "name": "stderr",
     "output_type": "stream",
     "text": [
      "/usr/lib/python3/dist-packages/pandas/core/frame.py:3027: SettingWithCopyWarning: \n",
      "A value is trying to be set on a copy of a slice from a DataFrame\n",
      "\n",
      "See the caveats in the documentation: http://pandas.pydata.org/pandas-docs/stable/indexing.html#indexing-view-versus-copy\n",
      "  return super(DataFrame, self).rename(**kwargs)\n"
     ]
    }
   ],
   "source": [
    "for i in list(df):\n",
    "    if i=='ladybird.1':\n",
    "        break;\n",
    "    del df[i]\n",
    "temp=df[['ladybird.1','Unnamed: 96','Unnamed: 97','Unnamed: 98','Unnamed: 99','Unnamed: 100']]\n",
    "for i,j in zip(list(temp),weeklist):\n",
    "    temp.rename(columns={i:j},inplace=True)\n",
    "    \n",
    "season2.ladybird(temp)\n",
    "\n"
   ]
  },
  {
   "cell_type": "code",
   "execution_count": 17,
   "metadata": {},
   "outputs": [
    {
     "name": "stderr",
     "output_type": "stream",
     "text": [
      "/usr/lib/python3/dist-packages/pandas/core/frame.py:3027: SettingWithCopyWarning: \n",
      "A value is trying to be set on a copy of a slice from a DataFrame\n",
      "\n",
      "See the caveats in the documentation: http://pandas.pydata.org/pandas-docs/stable/indexing.html#indexing-view-versus-copy\n",
      "  return super(DataFrame, self).rename(**kwargs)\n"
     ]
    }
   ],
   "source": [
    "for i in list(df):\n",
    "    if i=='hoverfly.1':\n",
    "        break;\n",
    "    del df[i]\n",
    "temp=df[['hoverfly.1','Unnamed: 103','Unnamed: 104','Unnamed: 105','Unnamed: 106','Unnamed: 107']]\n",
    "for i,j in zip(list(temp),weeklist):\n",
    "    temp.rename(columns={i:j},inplace=True)\n",
    "season2.hoverfly(temp)\n"
   ]
  },
  {
   "cell_type": "code",
   "execution_count": 18,
   "metadata": {},
   "outputs": [
    {
     "name": "stderr",
     "output_type": "stream",
     "text": [
      "/usr/lib/python3/dist-packages/pandas/core/frame.py:3027: SettingWithCopyWarning: \n",
      "A value is trying to be set on a copy of a slice from a DataFrame\n",
      "\n",
      "See the caveats in the documentation: http://pandas.pydata.org/pandas-docs/stable/indexing.html#indexing-view-versus-copy\n",
      "  return super(DataFrame, self).rename(**kwargs)\n"
     ]
    }
   ],
   "source": [
    "for i in list(df):\n",
    "    if i=='Unnamed: 109':\n",
    "        break;\n",
    "    del df[i]\n",
    "temp=df[['Unnamed: 109','second seson','Unnamed: 111','Unnamed: 112','Unnamed: 113','Unnamed: 114','Unnamed: 115']]\n",
    "for i,j in zip(list(temp),yieldlist):\n",
    "    temp.rename(columns={i:j},inplace=True)\n",
    "    \n",
    "season2.plantsyield(temp)\n"
   ]
  },
  {
   "cell_type": "code",
   "execution_count": 19,
   "metadata": {},
   "outputs": [
    {
     "name": "stderr",
     "output_type": "stream",
     "text": [
      "/usr/lib/python3/dist-packages/pandas/core/frame.py:3027: SettingWithCopyWarning: \n",
      "A value is trying to be set on a copy of a slice from a DataFrame\n",
      "\n",
      "See the caveats in the documentation: http://pandas.pydata.org/pandas-docs/stable/indexing.html#indexing-view-versus-copy\n",
      "  return super(DataFrame, self).rename(**kwargs)\n"
     ]
    }
   ],
   "source": [
    "for i in list(df):\n",
    "    if i=='SEASON 3':\n",
    "        break;\n",
    "    del df[i]\n",
    "temp=df[['SEASON 3','Unnamed: 119','Unnamed: 120','Unnamed: 121','Unnamed: 122','Unnamed: 123']]\n",
    "\n",
    "for i,j in zip(list(temp),weeklist):\n",
    "    temp.rename(columns={i:j},inplace=True)\n",
    "    \n",
    "season3=seasons()\n",
    "season3.dbm(temp)\n"
   ]
  },
  {
   "cell_type": "code",
   "execution_count": 20,
   "metadata": {},
   "outputs": [
    {
     "name": "stderr",
     "output_type": "stream",
     "text": [
      "/usr/lib/python3/dist-packages/pandas/core/frame.py:3027: SettingWithCopyWarning: \n",
      "A value is trying to be set on a copy of a slice from a DataFrame\n",
      "\n",
      "See the caveats in the documentation: http://pandas.pydata.org/pandas-docs/stable/indexing.html#indexing-view-versus-copy\n",
      "  return super(DataFrame, self).rename(**kwargs)\n"
     ]
    }
   ],
   "source": [
    "for i in list(df):\n",
    "    if i=='Aphid.1':\n",
    "        break;\n",
    "    del df[i]\n",
    "temp=df[['Aphid.1','Unnamed: 126','Unnamed: 127','Unnamed: 128','Unnamed: 129','Unnamed: 130']]\n",
    "\n",
    "\n",
    "for i,j in zip(list(temp),weeklist):\n",
    "    temp.rename(columns={i:j},inplace=True)\n",
    "    \n",
    "season3.aphid(temp)\n",
    "\n"
   ]
  },
  {
   "cell_type": "code",
   "execution_count": 21,
   "metadata": {},
   "outputs": [
    {
     "name": "stderr",
     "output_type": "stream",
     "text": [
      "/usr/lib/python3/dist-packages/pandas/core/frame.py:3027: SettingWithCopyWarning: \n",
      "A value is trying to be set on a copy of a slice from a DataFrame\n",
      "\n",
      "See the caveats in the documentation: http://pandas.pydata.org/pandas-docs/stable/indexing.html#indexing-view-versus-copy\n",
      "  return super(DataFrame, self).rename(**kwargs)\n"
     ]
    }
   ],
   "source": [
    "for i in list(df):\n",
    "    if i=='Unnamed: 132':\n",
    "        break;\n",
    "    del df[i]\n",
    "temp=df[['Unnamed: 132','third season','Unnamed: 134','Unnamed: 135','Unnamed: 136','Unnamed: 137']]\n",
    "\n",
    "\n",
    "\n",
    "for i,j in zip(list(temp),weeklist):\n",
    "    temp.rename(columns={i:j},inplace=True)\n",
    "    \n",
    "season3.whitefly(temp)\n"
   ]
  },
  {
   "cell_type": "code",
   "execution_count": 22,
   "metadata": {},
   "outputs": [
    {
     "name": "stderr",
     "output_type": "stream",
     "text": [
      "/usr/lib/python3/dist-packages/pandas/core/frame.py:3027: SettingWithCopyWarning: \n",
      "A value is trying to be set on a copy of a slice from a DataFrame\n",
      "\n",
      "See the caveats in the documentation: http://pandas.pydata.org/pandas-docs/stable/indexing.html#indexing-view-versus-copy\n",
      "  return super(DataFrame, self).rename(**kwargs)\n"
     ]
    }
   ],
   "source": [
    "for i in list(df):\n",
    "    if i=='third season.1':\n",
    "        break;\n",
    "    del df[i]\n",
    "    \n",
    "temp=df[['third season.1','Unnamed: 140','Unnamed: 141','Unnamed: 142','Unnamed: 143','Unnamed: 144']]\n",
    "\n",
    "for i,j in zip(list(temp),weeklist):\n",
    "    temp.rename(columns={i:j},inplace=True)\n",
    "season3.hellula(temp)\n",
    "    "
   ]
  },
  {
   "cell_type": "code",
   "execution_count": 23,
   "metadata": {},
   "outputs": [
    {
     "name": "stderr",
     "output_type": "stream",
     "text": [
      "/usr/lib/python3/dist-packages/pandas/core/frame.py:3027: SettingWithCopyWarning: \n",
      "A value is trying to be set on a copy of a slice from a DataFrame\n",
      "\n",
      "See the caveats in the documentation: http://pandas.pydata.org/pandas-docs/stable/indexing.html#indexing-view-versus-copy\n",
      "  return super(DataFrame, self).rename(**kwargs)\n"
     ]
    }
   ],
   "source": [
    "for i in list(df):\n",
    "    if i=='third season spider':\n",
    "        break;\n",
    "    del df[i]\n",
    "temp=df[['third season spider','Unnamed: 147','Unnamed: 148','Unnamed: 149','Unnamed: 150','Unnamed: 151']]\n",
    "\n",
    "for i,j in zip(list(temp),weeklist):\n",
    "    temp.rename(columns={i:j},inplace=True)\n",
    "season3.spider(temp)\n"
   ]
  },
  {
   "cell_type": "code",
   "execution_count": 24,
   "metadata": {},
   "outputs": [
    {
     "name": "stderr",
     "output_type": "stream",
     "text": [
      "/usr/lib/python3/dist-packages/pandas/core/frame.py:3027: SettingWithCopyWarning: \n",
      "A value is trying to be set on a copy of a slice from a DataFrame\n",
      "\n",
      "See the caveats in the documentation: http://pandas.pydata.org/pandas-docs/stable/indexing.html#indexing-view-versus-copy\n",
      "  return super(DataFrame, self).rename(**kwargs)\n"
     ]
    }
   ],
   "source": [
    "for i in list(df):\n",
    "    if i=='Unnamed: 153':\n",
    "        break;\n",
    "    del df[i]\n",
    "temp=df[['Unnamed: 153','Unnamed: 154','Unnamed: 155','Unnamed: 156','Unnamed: 157','Unnamed: 158']]\n",
    "\n",
    "\n",
    "for i,j in zip(list(temp),weeklist):\n",
    "    temp.rename(columns={i:j},inplace=True)\n",
    "    \n",
    "season3.ladybird(temp)\n",
    "    \n"
   ]
  },
  {
   "cell_type": "code",
   "execution_count": 25,
   "metadata": {},
   "outputs": [],
   "source": [
    "for i in list(df):\n",
    "    if i=='Unnamed: 160':\n",
    "        break;\n",
    "    del df[i]\n",
    "temp=df[['Unnamed: 160','Unnamed: 161','3rd season harvest','Unnamed: 163','Unnamed: 164']]\n",
    "for i,j in zip(list(temp),yieldlist):\n",
    "    temp.rename(columns={i:j},inplace=True)\n",
    "    \n",
    "season3.plantsyield(temp)\n",
    "\n"
   ]
  },
  {
   "cell_type": "code",
   "execution_count": 26,
   "metadata": {},
   "outputs": [],
   "source": [
    "season3.getyields().drop(df.index[0], inplace=True)\n",
    "#season3.getyields()\n"
   ]
  },
  {
   "cell_type": "code",
   "execution_count": 27,
   "metadata": {},
   "outputs": [
    {
     "name": "stderr",
     "output_type": "stream",
     "text": [
      "/home/shivamguys/.local/lib/python3.6/site-packages/ipykernel_launcher.py:1: SettingWithCopyWarning: \n",
      "A value is trying to be set on a copy of a slice from a DataFrame\n",
      "\n",
      "See the caveats in the documentation: http://pandas.pydata.org/pandas-docs/stable/indexing.html#indexing-view-versus-copy\n",
      "  \"\"\"Entry point for launching an IPython kernel.\n",
      "/home/shivamguys/.local/lib/python3.6/site-packages/ipykernel_launcher.py:2: SettingWithCopyWarning: \n",
      "A value is trying to be set on a copy of a slice from a DataFrame\n",
      "\n",
      "See the caveats in the documentation: http://pandas.pydata.org/pandas-docs/stable/indexing.html#indexing-view-versus-copy\n",
      "  \n",
      "/home/shivamguys/.local/lib/python3.6/site-packages/ipykernel_launcher.py:3: SettingWithCopyWarning: \n",
      "A value is trying to be set on a copy of a slice from a DataFrame\n",
      "\n",
      "See the caveats in the documentation: http://pandas.pydata.org/pandas-docs/stable/indexing.html#indexing-view-versus-copy\n",
      "  This is separate from the ipykernel package so we can avoid doing imports until\n"
     ]
    }
   ],
   "source": [
    "season1.getdbm().drop(df.index[0], inplace=True)\n",
    "season2.getspider().drop(df.index[0], inplace=True)\n",
    "season2.getyields().drop(df.index[0], inplace=True)"
   ]
  },
  {
   "cell_type": "markdown",
   "metadata": {},
   "source": [
    "# Damage To the plant species using spraying technique that includes attack + water, So lets see how much damage (Holes/plant) is causing Spraying Technique "
   ]
  },
  {
   "cell_type": "code",
   "execution_count": 28,
   "metadata": {},
   "outputs": [
    {
     "data": {
      "text/plain": [
       "1725.84"
      ]
     },
     "execution_count": 28,
     "metadata": {},
     "output_type": "execute_result"
    }
   ],
   "source": [
    "count=0.0\n",
    "totalcount=0.0\n",
    "holeselements=list();\n",
    "import math\n",
    "yields=season1.getyields()\n",
    "\n",
    "holes=yields[yields['attacktype']!='Bot']\n",
    "\n",
    "\n",
    "for i in holes['Holes/plant']:\n",
    "    x=float(i)\n",
    "    if(math.isnan(x)):\n",
    "        continue;\n",
    "    holeselements.append(x)    \n",
    "    count+=x\n",
    "    \n",
    "#print(yields['Holes/plant'].count())\n",
    "totalcount+=holes['Holes/plant'].count()\n",
    "#print(totalcount)\n",
    "\n",
    "yields=season2.getyields()\n",
    "\n",
    "holes=yields[yields['attacktype']!='Bot']\n",
    "#print(holes['Holes/plant'].count(),totalcount)\n",
    "\n",
    "for i in holes['Holes/plant']:\n",
    "    x=float(i)\n",
    "    if(math.isnan(x)):\n",
    "        continue;\n",
    "        \n",
    "    count+=x\n",
    "    holeselements.append(x)\n",
    "    \n",
    "totalcount+=holes['Holes/plant'].count()\n",
    "\n",
    "yields=season3.getyields()\n",
    "\n",
    "holes=yields[yields['attacktype']!='Bot']\n",
    "totalcount+=holes['Holes/plant'].count()\n",
    "#print(holes['Holes/plant'].count())\n",
    "\n",
    "for i in holes['Holes/plant']:\n",
    "    x=float(i)\n",
    "    if(math.isnan(x)):\n",
    "        continue;\n",
    "        \n",
    "    count+=x\n",
    "    holeselements.append(x)\n",
    "\n",
    "    \n",
    "    \n",
    "count"
   ]
  },
  {
   "cell_type": "markdown",
   "metadata": {},
   "source": [
    "# Mean of the damage caused to the plants,over 3 seasons which consisted of means of only (Attack and Water) which is equivallent to spraying.\n"
   ]
  },
  {
   "cell_type": "code",
   "execution_count": 29,
   "metadata": {},
   "outputs": [
    {
     "name": "stdout",
     "output_type": "stream",
     "text": [
      "Mean of three seasons, Damaged Caused is 10.2728571429\n"
     ]
    }
   ],
   "source": [
    "print(\"Mean of three seasons, Damaged Caused is\",count/totalcount)\n",
    "damagemean=count/totalcount;"
   ]
  },
  {
   "cell_type": "markdown",
   "metadata": {},
   "source": [
    "# Code for standard error that defines how much our sample varies from the population"
   ]
  },
  {
   "cell_type": "code",
   "execution_count": 30,
   "metadata": {},
   "outputs": [],
   "source": [
    "totalvariance=0.0;\n",
    "for i in holeselements:\n",
    "    totalvariance=totalvariance+((i-damagemean)**2)\n",
    "    \n",
    "variance=totalvariance/totalcount-1\n",
    "# As it comprises of sample\n",
    "\n",
    "    \n",
    "    \n",
    "    \n",
    "\n",
    "    "
   ]
  },
  {
   "cell_type": "markdown",
   "metadata": {},
   "source": [
    "# Hence Standard Error for damaged caused by spraying is"
   ]
  },
  {
   "cell_type": "code",
   "execution_count": 31,
   "metadata": {},
   "outputs": [
    {
     "name": "stdout",
     "output_type": "stream",
     "text": [
      "Standard Error is 1.0820796190820332\n"
     ]
    }
   ],
   "source": [
    "se=math.sqrt(variance/totalcount)\n",
    "print(\"Standard Error is\",math.sqrt(variance/totalcount))"
   ]
  },
  {
   "cell_type": "markdown",
   "metadata": {},
   "source": [
    "# Standard Deviation is\n",
    "# Looking ar below number it shows that datapoints for spraying does deviate from the mean a marginal bit"
   ]
  },
  {
   "cell_type": "code",
   "execution_count": 32,
   "metadata": {},
   "outputs": [
    {
     "name": "stdout",
     "output_type": "stream",
     "text": [
      "14.025354852605215\n"
     ]
    }
   ],
   "source": [
    "print(math.sqrt(variance))"
   ]
  },
  {
   "cell_type": "markdown",
   "metadata": {},
   "source": [
    "# At 95% Confidence level we get value from T-Distribution is"
   ]
  },
  {
   "cell_type": "code",
   "execution_count": 33,
   "metadata": {},
   "outputs": [
    {
     "name": "stdout",
     "output_type": "stream",
     "text": [
      "Value -1.974\n"
     ]
    }
   ],
   "source": [
    "tvalue=-1.974 \n",
    "print(\"Value\",tvalue)"
   ]
  },
  {
   "cell_type": "code",
   "execution_count": 34,
   "metadata": {},
   "outputs": [
    {
     "name": "stdout",
     "output_type": "stream",
     "text": [
      "Interval (   8.13683197479  ,  12.4088823109   )\n"
     ]
    }
   ],
   "source": [
    "lowerrange=damagemean+(se*tvalue)\n",
    "upperrange=damagemean-(se*tvalue)\n",
    "\n",
    "print(\"Interval\",\"(  \",lowerrange,\" , \",upperrange,\"  )\")\n",
    "\n"
   ]
  },
  {
   "cell_type": "markdown",
   "metadata": {},
   "source": [
    "# Thus we are 95% confident that our true mean for damage including all season lies between the interval\n",
    "# (   8.13683197479  ,  12.4088823109   )"
   ]
  },
  {
   "cell_type": "markdown",
   "metadata": {},
   "source": [
    "# Mean Analysis for each plant species and spraying treatment combination "
   ]
  },
  {
   "cell_type": "markdown",
   "metadata": {},
   "source": [
    "# For Plant Ager and Spraying mean analysis for Damaged caused to the plant using spraying technique"
   ]
  },
  {
   "cell_type": "code",
   "execution_count": 35,
   "metadata": {},
   "outputs": [],
   "source": [
    "yields=season1.getyields()\n",
    "yields=yields[(yields['plants']=='Ager') & (yields['attacktype']!='Bot')]\n",
    "temp=yields;\n",
    "# FOr season 2\n",
    "yields=season2.getyields()\n",
    "temp1=yields[(yields['plants']=='Ager') & (yields['attacktype']!='Bot')]\n",
    "temp=temp.append(temp1)\n",
    "\n",
    "# For Season 3\n",
    "\n",
    "yields=season3.getyields()\n",
    "temp1=yields[(yields['plants']=='Ager') & (yields['attacktype']!='Bot')]\n",
    "temp=temp.append(temp1)\n",
    "plantager=list()\n",
    "\n",
    "for i in temp['Holes/plant']:\n",
    "    plantager.append(i);\n",
    "from matplotlib import *    \n",
    "#temp[['Marketable yield','Holes/plant']].plot(kind='bar')\n",
    "\n",
    "def converting(df):\n",
    "    return float(df)\n",
    "temp['Holes/plant']=temp['Holes/plant'].apply(converting)\n",
    "\n",
    "meanager=temp['Holes/plant'].sum()/temp['Holes/plant'].count()\n",
    "from scipy import stats\n",
    "seforager=stats.sem(temp['Holes/plant'])\n",
    "meanforager=temp['Holes/plant'].mean()\n"
   ]
  },
  {
   "cell_type": "markdown",
   "metadata": {},
   "source": [
    "# Mean For Ager plant using technique spraying for all the season has a mean of 9.8\n"
   ]
  },
  {
   "cell_type": "code",
   "execution_count": 36,
   "metadata": {},
   "outputs": [
    {
     "name": "stdout",
     "output_type": "stream",
     "text": [
      "Mean 9.8 Standard Error 2.75770330823\n"
     ]
    }
   ],
   "source": [
    "print(\"Mean\",meanforager,\"Standard Error\",seforager)\n"
   ]
  },
  {
   "cell_type": "markdown",
   "metadata": {},
   "source": [
    "# Standard Error of 2.75770330823"
   ]
  },
  {
   "cell_type": "code",
   "execution_count": 37,
   "metadata": {},
   "outputs": [
    {
     "name": "stdout",
     "output_type": "stream",
     "text": [
      "Mean for Cymb 10.0041666667 SE 2.81904257803\n"
     ]
    }
   ],
   "source": [
    "temp=season1.getyields().append(season2.getyields())\n",
    "temp=temp.append(season3.getyields())\n",
    "plantcymb=temp[(temp['plants']=='Cymb') & (temp['attacktype']!='Bot')]\n",
    "\n",
    "meancymb=plantcymb['Holes/plant'].apply(converting).mean()\n",
    "secymb=stats.sem(plantcymb['Holes/plant'].apply(converting))\n",
    "\n",
    "print(\"Mean for Cymb\",meancymb,\"SE\",secymb)\n"
   ]
  },
  {
   "cell_type": "markdown",
   "metadata": {},
   "source": [
    "# Mean damaged for plant Cymb for all season is 10.0041666667 StandardError is 2.81904257803"
   ]
  },
  {
   "cell_type": "code",
   "execution_count": 38,
   "metadata": {},
   "outputs": [
    {
     "name": "stdout",
     "output_type": "stream",
     "text": [
      "Mean For lant 10.9666666667 Standard Error 3.14901449195\n"
     ]
    }
   ],
   "source": [
    "temp=season1.getyields().append(season2.getyields())\n",
    "temp=temp.append(season3.getyields())\n",
    "plantlant=temp[(temp['plants']=='Lant') & (temp['attacktype']!='Bot')]\n",
    "\n",
    "meanlant=plantlant['Holes/plant'].apply(converting).mean()\n",
    "selant=stats.sem(plantlant['Holes/plant'].apply(converting))\n",
    "print(\"Mean For lant\",meanlant,\"Standard Error\",selant)"
   ]
  },
  {
   "cell_type": "markdown",
   "metadata": {},
   "source": [
    "# Mean For Lant 10.9666666667 Standard Error 3.14901449195"
   ]
  },
  {
   "cell_type": "code",
   "execution_count": 39,
   "metadata": {},
   "outputs": [
    {
     "name": "stdout",
     "output_type": "stream",
     "text": [
      "Mean For Tal 11.8375 Standard Error 3.47124216845\n"
     ]
    }
   ],
   "source": [
    "temp=season1.getyields().append(season2.getyields())\n",
    "temp=temp.append(season3.getyields())\n",
    "planttal=temp[(temp['plants']=='Tal') & (temp['attacktype']!='Bot')]\n",
    "\n",
    "meantal=planttal['Holes/plant'].apply(converting).mean()\n",
    "setal=stats.sem(planttal['Holes/plant'].apply(converting))\n",
    "print(\"Mean For Tal\",meantal,\"Standard Error\",setal)"
   ]
  },
  {
   "cell_type": "markdown",
   "metadata": {},
   "source": [
    "# Mean For Tal is 11.8375 Standard Error 3.47124216845"
   ]
  },
  {
   "cell_type": "code",
   "execution_count": 40,
   "metadata": {},
   "outputs": [
    {
     "name": "stdout",
     "output_type": "stream",
     "text": [
      "Mean For Tri 9.92083333333 Standard Error 2.82045600413\n"
     ]
    }
   ],
   "source": [
    "temp=season1.getyields().append(season2.getyields())\n",
    "temp=temp.append(season3.getyields())\n",
    "planttri=temp[(temp['plants']=='Tri') & (temp['attacktype']!='Bot')]\n",
    "\n",
    "meantri=planttri['Holes/plant'].apply(converting).mean()\n",
    "setri=stats.sem(planttri['Holes/plant'].apply(converting))\n",
    "print(\"Mean For Tri\",meantri,\"Standard Error\",setri)"
   ]
  },
  {
   "cell_type": "markdown",
   "metadata": {},
   "source": [
    "# Mean For Tri 9.92083333333 Standard Error 2.82045600413"
   ]
  },
  {
   "cell_type": "code",
   "execution_count": 41,
   "metadata": {},
   "outputs": [
    {
     "name": "stdout",
     "output_type": "stream",
     "text": [
      "Mean For Crot 9.29166666667 Standard Error 2.73525637107\n"
     ]
    }
   ],
   "source": [
    "temp=season1.getyields().append(season2.getyields())\n",
    "temp=temp.append(season3.getyields())\n",
    "plantcrot=temp[(temp['plants']=='Crot') & (temp['attacktype']!='Bot')]\n",
    "\n",
    "meancrot=plantcrot['Holes/plant'].apply(converting).mean()\n",
    "secrot=stats.sem(plantcrot['Holes/plant'].apply(converting))\n",
    "print(\"Mean For Crot\",meancrot,\"Standard Error\",secrot)"
   ]
  },
  {
   "cell_type": "markdown",
   "metadata": {},
   "source": [
    "# Mean For Crot 9.29166666667 Standard Error 2.73525637107"
   ]
  },
  {
   "cell_type": "code",
   "execution_count": 42,
   "metadata": {},
   "outputs": [
    {
     "data": {
      "text/plain": [
       "<matplotlib.axes._subplots.AxesSubplot at 0x7f5951492358>"
      ]
     },
     "execution_count": 42,
     "metadata": {},
     "output_type": "execute_result"
    }
   ],
   "source": [
    "from pandas import *\n",
    "dataa={'Mean for Ager':[meanforager],'Mean for Lant':[meanlant],'Mean For Ager':[meanforager],'Mean for Cymb':[meancymb],'Mean for Tri':[meantri],'Mean for Crot':[meancrot],'Mean for Tal':[meantal]}\n",
    "means=DataFrame(data=dataa)\n",
    "means.plot(kind='bar',title=\"Showing Maximum Damage Caused To Plants when used Spraying Technique\",figsize=(14,10))"
   ]
  },
  {
   "cell_type": "markdown",
   "metadata": {},
   "source": [
    "# Looking at above graph it predicts that Plant Tal is causing much more Damage As Holes/Plant has a significant increase."
   ]
  },
  {
   "cell_type": "markdown",
   "metadata": {},
   "source": [
    "# Lets Find out what Botanical type has on plants.\n",
    "\n",
    "# That means Damaged Caused where attack=Bot"
   ]
  },
  {
   "cell_type": "code",
   "execution_count": 43,
   "metadata": {},
   "outputs": [
    {
     "data": {
      "text/html": [
       "<div>\n",
       "<style scoped>\n",
       "    .dataframe tbody tr th:only-of-type {\n",
       "        vertical-align: middle;\n",
       "    }\n",
       "\n",
       "    .dataframe tbody tr th {\n",
       "        vertical-align: top;\n",
       "    }\n",
       "\n",
       "    .dataframe thead th {\n",
       "        text-align: right;\n",
       "    }\n",
       "</style>\n",
       "<table border=\"1\" class=\"dataframe\">\n",
       "  <thead>\n",
       "    <tr style=\"text-align: right;\">\n",
       "      <th></th>\n",
       "      <th>Ager</th>\n",
       "      <th>Crot</th>\n",
       "      <th>Cymb</th>\n",
       "      <th>Lant</th>\n",
       "      <th>Tal</th>\n",
       "      <th>Tri</th>\n",
       "    </tr>\n",
       "  </thead>\n",
       "  <tbody>\n",
       "    <tr>\n",
       "      <th>0</th>\n",
       "      <td>11.796667</td>\n",
       "      <td>9.75</td>\n",
       "      <td>10.85</td>\n",
       "      <td>10.718333</td>\n",
       "      <td>12.045</td>\n",
       "      <td>11.591667</td>\n",
       "    </tr>\n",
       "  </tbody>\n",
       "</table>\n",
       "</div>"
      ],
      "text/plain": [
       "        Ager   Crot   Cymb       Lant     Tal        Tri\n",
       "0  11.796667   9.75  10.85  10.718333  12.045  11.591667"
      ]
     },
     "execution_count": 43,
     "metadata": {},
     "output_type": "execute_result"
    },
    {
     "data": {
      "image/png": "[encoded data removed]",
      "text/plain": [
       "<matplotlib.figure.Figure at 0x7f595142f9b0>"
      ]
     },
     "metadata": {},
     "output_type": "display_data"
    }
   ],
   "source": [
    "temp=season1.getyields().append(season2.getyields())\n",
    "temp=temp.append(season3.getyields())\n",
    "temp=temp[(temp['plants']=='Ager') & (temp['attacktype']=='Bot')]\n",
    "temp['Holes/plant']=temp['Holes/plant'].apply(converting)\n",
    "ydager=temp['Holes/plant'].mean()\n",
    "\n",
    "temp=season1.getyields().append(season2.getyields())\n",
    "temp=temp.append(season3.getyields())\n",
    "temp=temp[(temp['plants']=='Cymb') & (temp['attacktype']=='Bot')]\n",
    "temp['Holes/plant']=temp['Holes/plant'].apply(converting)\n",
    "ydcymb=temp['Holes/plant'].mean()\n",
    "\n",
    "\n",
    "temp=season1.getyields().append(season2.getyields())\n",
    "temp=temp.append(season3.getyields())\n",
    "temp=temp[(temp['plants']=='Crot') & (temp['attacktype']=='Bot')]\n",
    "temp['Holes/plant']=temp['Holes/plant'].apply(converting)\n",
    "ydcrot=temp['Holes/plant'].mean()\n",
    "\n",
    "\n",
    "temp=season1.getyields().append(season2.getyields())\n",
    "temp=temp.append(season3.getyields())\n",
    "temp=temp[(temp['plants']=='Lant') & (temp['attacktype']=='Bot')]\n",
    "temp['Holes/plant']=temp['Holes/plant'].apply(converting)\n",
    "ydlant=temp['Holes/plant'].mean()\n",
    "\n",
    "temp=season1.getyields().append(season2.getyields())\n",
    "temp=temp.append(season3.getyields())\n",
    "temp=temp[(temp['plants']=='Tri') & (temp['attacktype']=='Bot')]\n",
    "temp['Holes/plant']=temp['Holes/plant'].apply(converting)\n",
    "ydtri=temp['Holes/plant'].mean()\n",
    "\n",
    "\n",
    "temp=season1.getyields().append(season2.getyields())\n",
    "temp=temp.append(season3.getyields())\n",
    "temp=temp[(temp['plants']=='Tal') & (temp['attacktype']=='Bot')]\n",
    "temp['Holes/plant']=temp['Holes/plant'].apply(converting)\n",
    "ydtal=temp['Holes/plant'].mean()\n",
    "\n",
    "dataa={' Ager':[ydager],' Lant':[ydlant],' Cymb':[ydcymb],' Tri':[ydtri],' Crot':[ydcrot],' Tal':[ydtal]}\n",
    "yds=DataFrame(data=dataa)\n",
    "yds.plot(kind='bar',title=\"Showing the maximum Damage when used Bot\",figsize=(14,8))\n",
    "yds"
   ]
  },
  {
   "cell_type": "markdown",
   "metadata": {},
   "source": [
    "# Even we had Tal ranked High but Standard Error also significantly falls high, we can't be sure about that unless we get quite a large sample for tal. "
   ]
  },
  {
   "cell_type": "code",
   "execution_count": 44,
   "metadata": {},
   "outputs": [
    {
     "name": "stdout",
     "output_type": "stream",
     "text": [
      "3.53793589779 20.1370641022\n"
     ]
    }
   ],
   "source": [
    "tvalue=2.39094932\n",
    "lowerrange=meantal+(setal*tvalue)\n",
    "upperrange=meantal-(setal*tvalue)\n",
    "print(upperrange,lowerrange,)"
   ]
  },
  {
   "cell_type": "markdown",
   "metadata": {},
   "source": [
    "# Standard Error is even high for Tal, as we have  very few sample size that means mean Damaged mean value when used spraying technique for Tal can be in Between ( 3.53793589779 20.1370641022 ) \n",
    "\n",
    "# We aren't sure about that but the sample can be varried according to population true mean"
   ]
  },
  {
   "cell_type": "code",
   "execution_count": 45,
   "metadata": {},
   "outputs": [
    {
     "data": {
      "text/plain": [
       "<matplotlib.axes._subplots.AxesSubplot at 0x7f5951448470>"
      ]
     },
     "execution_count": 45,
     "metadata": {},
     "output_type": "execute_result"
    },
    {
     "data": {
      "image/png": "[encoded data removed]",
      "text/plain": [
       "<matplotlib.figure.Figure at 0x7f59513bbe48>"
      ]
     },
     "metadata": {},
     "output_type": "display_data"
    }
   ],
   "source": [
    "dataa={'Standard Error for Lant':[selant],'Standard Error for Ager':[seforager],'Standard Error for Cymb':[secymb],'Standard Error for Tri':[setri],'Standard Error for Crot':[secrot],'Standard Error for Tal':[setal]}\n",
    "all=DataFrame(data=dataa)\n",
    "all.plot(kind='bar',title=\"Showing Standard Error for Holes/Plant When used Spraying Techniques\",figsize=(14,10))"
   ]
  },
  {
   "cell_type": "markdown",
   "metadata": {},
   "source": [
    "# Plant Yieldage For Plants for all season using Botanical Measure that is attack type = Bot"
   ]
  },
  {
   "cell_type": "code",
   "execution_count": 46,
   "metadata": {
    "scrolled": true
   },
   "outputs": [
    {
     "data": {
      "text/plain": [
       "<matplotlib.axes._subplots.AxesSubplot at 0x7f5950db3080>"
      ]
     },
     "execution_count": 46,
     "metadata": {},
     "output_type": "execute_result"
    },
    {
     "data": {
      "image/png": "[encoded data removed]",
      "text/plain": [
       "<matplotlib.figure.Figure at 0x7f5950dc8198>"
      ]
     },
     "metadata": {},
     "output_type": "display_data"
    }
   ],
   "source": [
    "temp=season1.getyields().append(season2.getyields())\n",
    "temp=temp.append(season3.getyields())\n",
    "temp=temp[(temp['plants']=='Ager') & (temp['attacktype']=='Bot')]\n",
    "temp['Yield/plant']=temp['Yield/ha'].apply(converting)\n",
    "ydager=temp['Yield/plant'].mean()\n",
    "\n",
    "temp=season1.getyields().append(season2.getyields())\n",
    "temp=temp.append(season3.getyields())\n",
    "temp=temp[(temp['plants']=='Cymb') & (temp['attacktype']=='Bot')]\n",
    "temp['Yield/plant']=temp['Yield/ha'].apply(converting)\n",
    "ydcymb=temp['Yield/plant'].mean()\n",
    "\n",
    "\n",
    "temp=season1.getyields().append(season2.getyields())\n",
    "temp=temp.append(season3.getyields())\n",
    "temp=temp[(temp['plants']=='Crot') & (temp['attacktype']=='Bot')]\n",
    "temp['Yield/plant']=temp['Yield/ha'].apply(converting)\n",
    "ydcrot=temp['Yield/plant'].mean()\n",
    "\n",
    "\n",
    "temp=season1.getyields().append(season2.getyields())\n",
    "temp=temp.append(season3.getyields())\n",
    "temp=temp[(temp['plants']=='Lant') & (temp['attacktype']=='Bot')]\n",
    "temp['Yield/plant']=temp['Yield/ha'].apply(converting)\n",
    "ydlant=temp['Yield/plant'].mean()\n",
    "\n",
    "temp=season1.getyields().append(season2.getyields())\n",
    "temp=temp.append(season3.getyields())\n",
    "temp=temp[(temp['plants']=='Tri') & (temp['attacktype']=='Bot')]\n",
    "temp['Yield/plant']=temp['Yield/ha'].apply(converting)\n",
    "ydtri=temp['Yield/plant'].mean()\n",
    "\n",
    "\n",
    "temp=season1.getyields().append(season2.getyields())\n",
    "temp=temp.append(season3.getyields())\n",
    "temp=temp[(temp['plants']=='Tal') & (temp['attacktype']=='Bot')]\n",
    "temp['Yield/plant']=temp['Yield/ha'].apply(converting)\n",
    "ydtal=temp['Yield/plant'].mean()\n",
    "\n",
    "\n",
    "\n",
    "\n",
    "\n",
    "dataa={' Ager':[ydager],' Lant':[ydlant],' Cymb':[ydcymb],' Tri':[ydtri],' Crot':[ydcrot],' Tal':[ydtal]}\n",
    "yds=DataFrame(data=dataa)\n",
    "yds.plot(kind='bar',title='Showing the maximum Yieldage',figsize=(14,8))"
   ]
  },
  {
   "cell_type": "code",
   "execution_count": 47,
   "metadata": {},
   "outputs": [
    {
     "name": "stdout",
     "output_type": "stream",
     "text": [
      "Standard Error for Yield per plant of Cymb 0.011707180737\n"
     ]
    }
   ],
   "source": [
    "temp=season1.getyields().append(season2.getyields())\n",
    "temp=temp.append(season3.getyields())\n",
    "temp=temp[(temp['plants']=='Cymb') & (temp['attacktype']=='Bot')]\n",
    "from scipy import stats;\n",
    "seforydcymb=stats.sem(temp['yield/plant'].apply(converting))\n",
    "\n",
    "print(\"Standard Error for Yield per plant of Cymb\",seforydcymb)"
   ]
  },
  {
   "cell_type": "markdown",
   "metadata": {},
   "source": [
    "# Here we calculated  Standard error for plant yield for Cymb and we obtained a standard error of  0.011707180737 . (which shows a smaller deviation from the mean so yes, it is one of the highest yield produced by it )\n",
    "\n",
    "# So we can  be 99% sure and  Conclude that Cymb Yieldage is generally higher than others."
   ]
  },
  {
   "cell_type": "markdown",
   "metadata": {},
   "source": [
    "# So now we will calculate the weekly means so as to know how insect numbers changed over the weeks."
   ]
  },
  {
   "cell_type": "markdown",
   "metadata": {},
   "source": [
    "# Week Number 1 (Season One)"
   ]
  },
  {
   "cell_type": "code",
   "execution_count": 48,
   "metadata": {
    "scrolled": true
   },
   "outputs": [
    {
     "ename": "ValueError",
     "evalue": "could not convert string to float: 'wk1'",
     "output_type": "error",
     "traceback": [
      "\u001b[0;31m---------------------------------------------------------------------------\u001b[0m",
      "\u001b[0;31mValueError\u001b[0m                                Traceback (most recent call last)",
      "\u001b[0;32m<ipython-input-48-d8d3c0330396>\u001b[0m in \u001b[0;36m<module>\u001b[0;34m()\u001b[0m\n\u001b[1;32m      4\u001b[0m \u001b[0mc\u001b[0m\u001b[0;34m[\u001b[0m\u001b[0;34m'wk1'\u001b[0m\u001b[0;34m]\u001b[0m\u001b[0;34m=\u001b[0m\u001b[0mweekone\u001b[0m\u001b[0;34m[\u001b[0m\u001b[0;34m'wk1'\u001b[0m\u001b[0;34m]\u001b[0m\u001b[0;34m.\u001b[0m\u001b[0mappend\u001b[0m\u001b[0;34m(\u001b[0m\u001b[0mseason1\u001b[0m\u001b[0;34m.\u001b[0m\u001b[0mgetaphid\u001b[0m\u001b[0;34m(\u001b[0m\u001b[0;34m)\u001b[0m\u001b[0;34m[\u001b[0m\u001b[0;34m'wk1'\u001b[0m\u001b[0;34m]\u001b[0m\u001b[0;34m)\u001b[0m\u001b[0;34m.\u001b[0m\u001b[0mappend\u001b[0m\u001b[0;34m(\u001b[0m\u001b[0mseason1\u001b[0m\u001b[0;34m.\u001b[0m\u001b[0mgetwhitefly\u001b[0m\u001b[0;34m(\u001b[0m\u001b[0;34m)\u001b[0m\u001b[0;34m[\u001b[0m\u001b[0;34m'wk1'\u001b[0m\u001b[0;34m]\u001b[0m\u001b[0;34m)\u001b[0m\u001b[0;34m.\u001b[0m\u001b[0mappend\u001b[0m\u001b[0;34m(\u001b[0m\u001b[0mseason1\u001b[0m\u001b[0;34m.\u001b[0m\u001b[0mgetspider\u001b[0m\u001b[0;34m(\u001b[0m\u001b[0;34m)\u001b[0m\u001b[0;34m[\u001b[0m\u001b[0;34m'wk1'\u001b[0m\u001b[0;34m]\u001b[0m\u001b[0;34m)\u001b[0m\u001b[0;34m.\u001b[0m\u001b[0mappend\u001b[0m\u001b[0;34m(\u001b[0m\u001b[0mseason1\u001b[0m\u001b[0;34m.\u001b[0m\u001b[0mgethellula\u001b[0m\u001b[0;34m(\u001b[0m\u001b[0;34m)\u001b[0m\u001b[0;34m[\u001b[0m\u001b[0;34m'wk1'\u001b[0m\u001b[0;34m]\u001b[0m\u001b[0;34m)\u001b[0m\u001b[0;34m.\u001b[0m\u001b[0mappend\u001b[0m\u001b[0;34m(\u001b[0m\u001b[0mseason1\u001b[0m\u001b[0;34m.\u001b[0m\u001b[0mgethoverfly\u001b[0m\u001b[0;34m(\u001b[0m\u001b[0;34m)\u001b[0m\u001b[0;34m[\u001b[0m\u001b[0;34m'wk1'\u001b[0m\u001b[0;34m]\u001b[0m\u001b[0;34m)\u001b[0m\u001b[0;34m.\u001b[0m\u001b[0mappend\u001b[0m\u001b[0;34m(\u001b[0m\u001b[0mseason1\u001b[0m\u001b[0;34m.\u001b[0m\u001b[0mgetladybird\u001b[0m\u001b[0;34m(\u001b[0m\u001b[0;34m)\u001b[0m\u001b[0;34m[\u001b[0m\u001b[0;34m'wk1'\u001b[0m\u001b[0;34m]\u001b[0m\u001b[0;34m)\u001b[0m\u001b[0;34m\u001b[0m\u001b[0m\n\u001b[1;32m      5\u001b[0m \u001b[0;31m#weekone=weekone['plants'].append(season1.getspider()['plants'])\u001b[0m\u001b[0;34m\u001b[0m\u001b[0;34m\u001b[0m\u001b[0m\n\u001b[0;32m----> 6\u001b[0;31m \u001b[0mc\u001b[0m\u001b[0;34m[\u001b[0m\u001b[0;34m'wk1'\u001b[0m\u001b[0;34m]\u001b[0m\u001b[0;34m=\u001b[0m\u001b[0;34m(\u001b[0m\u001b[0mc\u001b[0m\u001b[0;34m[\u001b[0m\u001b[0;34m'wk1'\u001b[0m\u001b[0;34m]\u001b[0m\u001b[0;34m.\u001b[0m\u001b[0mapply\u001b[0m\u001b[0;34m(\u001b[0m\u001b[0mconverting\u001b[0m\u001b[0;34m)\u001b[0m\u001b[0;34m)\u001b[0m\u001b[0;34m\u001b[0m\u001b[0m\n\u001b[0m\u001b[1;32m      7\u001b[0m \u001b[0;31m#stats.sem(c['wk1'])\u001b[0m\u001b[0;34m\u001b[0m\u001b[0;34m\u001b[0m\u001b[0m\n\u001b[1;32m      8\u001b[0m \u001b[0;34m\u001b[0m\u001b[0m\n",
      "\u001b[0;32m/usr/lib/python3/dist-packages/pandas/core/series.py\u001b[0m in \u001b[0;36mapply\u001b[0;34m(self, func, convert_dtype, args, **kwds)\u001b[0m\n\u001b[1;32m   2549\u001b[0m             \u001b[0;32melse\u001b[0m\u001b[0;34m:\u001b[0m\u001b[0;34m\u001b[0m\u001b[0m\n\u001b[1;32m   2550\u001b[0m                 \u001b[0mvalues\u001b[0m \u001b[0;34m=\u001b[0m \u001b[0mself\u001b[0m\u001b[0;34m.\u001b[0m\u001b[0masobject\u001b[0m\u001b[0;34m\u001b[0m\u001b[0m\n\u001b[0;32m-> 2551\u001b[0;31m                 \u001b[0mmapped\u001b[0m \u001b[0;34m=\u001b[0m \u001b[0mlib\u001b[0m\u001b[0;34m.\u001b[0m\u001b[0mmap_infer\u001b[0m\u001b[0;34m(\u001b[0m\u001b[0mvalues\u001b[0m\u001b[0;34m,\u001b[0m \u001b[0mf\u001b[0m\u001b[0;34m,\u001b[0m \u001b[0mconvert\u001b[0m\u001b[0;34m=\u001b[0m\u001b[0mconvert_dtype\u001b[0m\u001b[0;34m)\u001b[0m\u001b[0;34m\u001b[0m\u001b[0m\n\u001b[0m\u001b[1;32m   2552\u001b[0m \u001b[0;34m\u001b[0m\u001b[0m\n\u001b[1;32m   2553\u001b[0m         \u001b[0;32mif\u001b[0m \u001b[0mlen\u001b[0m\u001b[0;34m(\u001b[0m\u001b[0mmapped\u001b[0m\u001b[0;34m)\u001b[0m \u001b[0;32mand\u001b[0m \u001b[0misinstance\u001b[0m\u001b[0;34m(\u001b[0m\u001b[0mmapped\u001b[0m\u001b[0;34m[\u001b[0m\u001b[0;36m0\u001b[0m\u001b[0;34m]\u001b[0m\u001b[0;34m,\u001b[0m \u001b[0mSeries\u001b[0m\u001b[0;34m)\u001b[0m\u001b[0;34m:\u001b[0m\u001b[0;34m\u001b[0m\u001b[0m\n",
      "\u001b[0;32mpandas/_libs/src/inference.pyx\u001b[0m in \u001b[0;36mpandas._libs.lib.map_infer\u001b[0;34m()\u001b[0m\n",
      "\u001b[0;32m<ipython-input-35-c22ca865594f>\u001b[0m in \u001b[0;36mconverting\u001b[0;34m(df)\u001b[0m\n\u001b[1;32m     20\u001b[0m \u001b[0;34m\u001b[0m\u001b[0m\n\u001b[1;32m     21\u001b[0m \u001b[0;32mdef\u001b[0m \u001b[0mconverting\u001b[0m\u001b[0;34m(\u001b[0m\u001b[0mdf\u001b[0m\u001b[0;34m)\u001b[0m\u001b[0;34m:\u001b[0m\u001b[0;34m\u001b[0m\u001b[0m\n\u001b[0;32m---> 22\u001b[0;31m     \u001b[0;32mreturn\u001b[0m \u001b[0mfloat\u001b[0m\u001b[0;34m(\u001b[0m\u001b[0mdf\u001b[0m\u001b[0;34m)\u001b[0m\u001b[0;34m\u001b[0m\u001b[0m\n\u001b[0m\u001b[1;32m     23\u001b[0m \u001b[0mtemp\u001b[0m\u001b[0;34m[\u001b[0m\u001b[0;34m'Holes/plant'\u001b[0m\u001b[0;34m]\u001b[0m\u001b[0;34m=\u001b[0m\u001b[0mtemp\u001b[0m\u001b[0;34m[\u001b[0m\u001b[0;34m'Holes/plant'\u001b[0m\u001b[0;34m]\u001b[0m\u001b[0;34m.\u001b[0m\u001b[0mapply\u001b[0m\u001b[0;34m(\u001b[0m\u001b[0mconverting\u001b[0m\u001b[0;34m)\u001b[0m\u001b[0;34m\u001b[0m\u001b[0m\n\u001b[1;32m     24\u001b[0m \u001b[0;34m\u001b[0m\u001b[0m\n",
      "\u001b[0;31mValueError\u001b[0m: could not convert string to float: 'wk1'"
     ]
    }
   ],
   "source": [
    "from scipy import stats;\n",
    "weekone=season1.getdbm()\n",
    "c=DataFrame()\n",
    "c['wk1']=weekone['wk1'].append(season1.getaphid()['wk1']).append(season1.getwhitefly()['wk1']).append(season1.getspider()['wk1']).append(season1.gethellula()['wk1']).append(season1.gethoverfly()['wk1']).append(season1.getladybird()['wk1'])\n",
    "#weekone=weekone['plants'].append(season1.getspider()['plants'])\n",
    "c['wk1']=(c['wk1'].apply(converting))\n",
    "#stats.sem(c['wk1'])\n",
    "\n",
    "#d.remove(nan)\n",
    "#del d[len(d)-1]\n",
    "\n",
    "\n",
    "\n",
    "c=c['wk1'].apply(converting)\n",
    "meanweek1=c.mean()\n",
    "w1s1=meanweek1\n",
    "\n",
    "print(\"Means For Week One For Season 1 is\",w1s1)\n"
   ]
  },
  {
   "cell_type": "markdown",
   "metadata": {},
   "source": [
    "# Means For Week 1  For Season 1 is 0.322125"
   ]
  },
  {
   "cell_type": "code",
   "execution_count": null,
   "metadata": {},
   "outputs": [],
   "source": [
    "weekone=season1.getdbm()\n",
    "c=DataFrame()\n",
    "def converting1(df):\n",
    "    return round(int(df))\n",
    "c['wk2']=weekone['wk2'].append(season1.getaphid()['wk2']).append(season1.getwhitefly()['wk2']).append(season1.getspider()['wk2']).append(season1.gethellula()['wk2']).append(season1.gethoverfly()['wk2']).append(season1.getladybird()['wk2'])\n",
    "#weekone=weekone['plants'].append(season1.getspider()['plants'])\n",
    "#c['wk2']=(c['wk2'].apply(converting))\n",
    "means=list()\n",
    "means1=list()\n",
    "for i in c['wk2']:\n",
    "    \n",
    "    means.append(str(i))\n",
    "    \n",
    "for i in means:\n",
    "    if(i=='nan') or i=='we2':\n",
    "        continue;\n",
    "    x=str(i)\n",
    "    means1.append(x)\n",
    "import string\n",
    "c=string.ascii_letters\n",
    "c   \n",
    "for i in means1:\n",
    "    if i in c:\n",
    "        means1.remove(i)\n",
    "\n",
    "means1=list(map(float,means1))\n",
    "w2s1=numpy.mean(means1)\n",
    "print(\"Mean for week 2 season 1 is\",w2s1)"
   ]
  },
  {
   "cell_type": "markdown",
   "metadata": {},
   "source": [
    "# Mean for week 2 season 1 is 0.164732142857"
   ]
  },
  {
   "cell_type": "code",
   "execution_count": null,
   "metadata": {},
   "outputs": [],
   "source": [
    "weekone=season1.getdbm()\n",
    "c=DataFrame()\n",
    "def converting1(df):\n",
    "    return round(int(df))\n",
    "c['wk3']=weekone['wk3'].append(season1.getaphid()['wk3']).append(season1.getwhitefly()['wk3']).append(season1.getspider()['wk3']).append(season1.gethellula()['wk3']).append(season1.gethoverfly()['wk3']).append(season1.getladybird()['wk3'])\n",
    "#weekone=weekone['plants'].append(season1.getspider()['plants'])\n",
    "#c['wk3']=(c['wk3'].apply(converting))\n",
    "means=list()\n",
    "means1=list()\n",
    "for i in c['wk3']:\n",
    "    \n",
    "    means.append(str(i))\n",
    "    \n",
    "for i in means:\n",
    "    if(i=='nan') or i=='wk3':\n",
    "        continue;\n",
    "    x=str(i)\n",
    "    means1.append(x)\n",
    "import string\n",
    "c=string.ascii_letters\n",
    "c   \n",
    "for i in means1:\n",
    "    if i in c:\n",
    "        means1.remove(i)\n",
    "\n",
    "means1=list(map(float,means1))\n",
    "w3s1=numpy.mean(means1)\n",
    "print(\"Mean for week 3 season 1 is\",w3s1)"
   ]
  },
  {
   "cell_type": "markdown",
   "metadata": {},
   "source": [
    "# Mean for week 3 season 1 is 0.184740608229"
   ]
  },
  {
   "cell_type": "code",
   "execution_count": null,
   "metadata": {},
   "outputs": [],
   "source": [
    "weekone=season1.getdbm()\n",
    "c=DataFrame()\n",
    "def converting1(df):\n",
    "    return round(int(df))\n",
    "c['wk4']=weekone['wk4'].append(season1.getaphid()['wk4']).append(season1.getwhitefly()['wk4']).append(season1.getspider()['wk4']).append(season1.gethellula()['wk4']).append(season1.gethoverfly()['wk4']).append(season1.getladybird()['wk4'])\n",
    "#weekone=weekone['plants'].append(season1.getspider()['plants'])\n",
    "#c['wk4']=(c['wk4'].apply(converting))\n",
    "means=list()\n",
    "means1=list()\n",
    "for i in c['wk4']:\n",
    "    \n",
    "    means.append(str(i))\n",
    "    \n",
    "for i in means:\n",
    "    if(i=='nan') or i=='wk4':\n",
    "        continue;\n",
    "    x=str(i)\n",
    "    means1.append(x)\n",
    "import string\n",
    "c=string.ascii_letters\n",
    "c   \n",
    "for i in means1:\n",
    "    if i in c:\n",
    "        means1.remove(i)\n",
    "\n",
    "means1=list(map(float,means1))\n",
    "w4s1=numpy.mean(means1)\n",
    "print(\"Mean for week 4 season 1 is\",w4s1)"
   ]
  },
  {
   "cell_type": "markdown",
   "metadata": {},
   "source": [
    "# Mean for week 4 season 1 is 0.119642857143"
   ]
  },
  {
   "cell_type": "code",
   "execution_count": null,
   "metadata": {},
   "outputs": [],
   "source": [
    "weeksmean={\"Week 1\":[w1s1],\"Week 2\":[w2s1],\"Week 3\":[w3s1],\"Week 4\":[w4s1]}\n",
    "weeks=DataFrame(data=weeksmean)\n",
    "weeks.plot(kind='bar',figsize=(10,8),title=\"Showing Number Of Insects For Each Week\")"
   ]
  },
  {
   "cell_type": "markdown",
   "metadata": {},
   "source": [
    "# We can clearly see as number of insects seems to grow large in week1 and then it gradually decreases .\n",
    "\n"
   ]
  },
  {
   "cell_type": "markdown",
   "metadata": {},
   "source": [
    "# Season 2 Week Analysis "
   ]
  },
  {
   "cell_type": "code",
   "execution_count": 55,
   "metadata": {},
   "outputs": [
    {
     "name": "stdout",
     "output_type": "stream",
     "text": [
      "Mean for week 1 season 2 is 0.375\n"
     ]
    }
   ],
   "source": [
    "weekone=season2.getdbm()\n",
    "c=DataFrame()\n",
    "def converting1(df):\n",
    "    return round(int(df))\n",
    "c['wk1']=weekone['wk1'].append(season2.getaphid()['wk1']).append(season2.getwhitefly()['wk1']).append(season2.getspider()['wk1']).append(season2.gethellula()['wk1']).append(season2.gethoverfly()['wk1']).append(season2.getladybird()['wk1'])\n",
    "#weekone=weekone['plants'].append(season2.getspider()['plants'])\n",
    "#c['wk1']=(c['wk1'].apply(converting))\n",
    "means=list()\n",
    "means1=list()\n",
    "for i in c['wk1']:\n",
    "    \n",
    "    means.append(str(i))\n",
    "    \n",
    "for i in means:\n",
    "    if(i=='nan') or i=='wk1':\n",
    "        continue;\n",
    "    x=str(i)\n",
    "    means1.append(x)\n",
    "import string\n",
    "c=string.ascii_letters\n",
    "c   \n",
    "for i in means1:\n",
    "    if i in c:\n",
    "        means1.remove(i)\n",
    "\n",
    "means1=list(map(float,means1))\n",
    "w1s2=numpy.mean(means1)\n",
    "print(\"Mean for week 1 season 2 is\",w1s2)"
   ]
  },
  {
   "cell_type": "markdown",
   "metadata": {},
   "source": [
    "# Mean for week 1 season 2 is 0.375"
   ]
  },
  {
   "cell_type": "code",
   "execution_count": 56,
   "metadata": {},
   "outputs": [
    {
     "data": {
      "text/plain": [
       "0.14107142857142857"
      ]
     },
     "execution_count": 56,
     "metadata": {},
     "output_type": "execute_result"
    }
   ],
   "source": [
    "weekone=season2.getdbm()\n",
    "c=DataFrame()\n",
    "def converting1(df):\n",
    "    return round(int(df))\n",
    "c['wk2']=weekone['wk2'].append(season2.getaphid()['wk2']).append(season2.getwhitefly()['wk2']).append(season2.getspider()['wk2']).append(season2.gethellula()['wk2']).append(season2.gethoverfly()['wk2']).append(season2.getladybird()['wk2'])\n",
    "#weekone=weekone['plants'].append(season2.getspider()['plants'])\n",
    "#c['wk2']=(c['wk2'].apply(converting))\n",
    "means=list()\n",
    "means1=list()\n",
    "for i in c['wk2']:\n",
    "    \n",
    "    means.append(str(i))\n",
    "    \n",
    "for i in means:\n",
    "    if(i=='nan') or i=='wk2':\n",
    "        continue;\n",
    "    x=str(i)\n",
    "    means1.append(x)\n",
    "import string\n",
    "c=string.ascii_letters\n",
    "c   \n",
    "for i in means1:\n",
    "    if i in c:\n",
    "        means1.remove(i)\n",
    "\n",
    "means1=list(map(float,means1))\n",
    "w2s2=numpy.mean(means1)\n",
    "w2s2"
   ]
  },
  {
   "cell_type": "markdown",
   "metadata": {},
   "source": [
    "# Means For week2 for season 2 is 0.14107142857142857"
   ]
  },
  {
   "cell_type": "code",
   "execution_count": 57,
   "metadata": {},
   "outputs": [
    {
     "name": "stdout",
     "output_type": "stream",
     "text": [
      "Mean for week 3 season 2 is 0.258035714286\n"
     ]
    }
   ],
   "source": [
    "weekone=season2.getdbm()\n",
    "c=DataFrame()\n",
    "def converting1(df):\n",
    "    return round(int(df))\n",
    "c['wk3']=weekone['wk3'].append(season2.getaphid()['wk3']).append(season2.getwhitefly()['wk3']).append(season2.getspider()['wk3']).append(season2.gethellula()['wk3']).append(season2.gethoverfly()['wk3']).append(season2.getladybird()['wk3'])\n",
    "#weekone=weekone['plants'].append(season2.getspider()['plants'])\n",
    "#c['wk3']=(c['wk3'].apply(converting))\n",
    "means=list()\n",
    "means1=list()\n",
    "for i in c['wk3']:\n",
    "    \n",
    "    means.append(str(i))\n",
    "    \n",
    "for i in means:\n",
    "    if(i=='nan') or i=='wk3':\n",
    "        continue;\n",
    "    x=str(i)\n",
    "    means1.append(x)\n",
    "import string\n",
    "c=string.ascii_letters\n",
    "c   \n",
    "for i in means1:\n",
    "    if i in c:\n",
    "        means1.remove(i)\n",
    "\n",
    "means1=list(map(float,means1))\n",
    "w3s2=numpy.mean(means1)\n",
    "print(\"Mean for week 3 season 2 is\",w3s2)"
   ]
  },
  {
   "cell_type": "markdown",
   "metadata": {},
   "source": [
    "# Mean for week 3 season 2 is 0.258035714286"
   ]
  },
  {
   "cell_type": "code",
   "execution_count": 58,
   "metadata": {},
   "outputs": [
    {
     "name": "stdout",
     "output_type": "stream",
     "text": [
      "Mean for week 4 season 2 is 0.233928571429\n"
     ]
    }
   ],
   "source": [
    "weekone=season2.getdbm()\n",
    "c=DataFrame()\n",
    "def converting1(df):\n",
    "    return round(int(df))\n",
    "c['wk4']=weekone['wk4'].append(season2.getaphid()['wk4']).append(season2.getwhitefly()['wk4']).append(season2.getspider()['wk4']).append(season2.gethellula()['wk4']).append(season2.gethoverfly()['wk4']).append(season2.getladybird()['wk4'])\n",
    "#weekone=weekone['plants'].append(season2.getspider()['plants'])\n",
    "#c['wk4']=(c['wk4'].apply(converting))\n",
    "means=list()\n",
    "means1=list()\n",
    "for i in c['wk4']:\n",
    "    \n",
    "    means.append(str(i))\n",
    "    \n",
    "for i in means:\n",
    "    if(i=='nan') or i=='wk4':\n",
    "        continue;\n",
    "    x=str(i)\n",
    "    means1.append(x)\n",
    "import string\n",
    "c=string.ascii_letters\n",
    "c   \n",
    "for i in means1:\n",
    "    if i in c:\n",
    "        means1.remove(i)\n",
    "\n",
    "means1=list(map(float,means1))\n",
    "w4s2=numpy.mean(means1)\n",
    "print(\"Mean for week 4 season 2 is\",w4s2)"
   ]
  },
  {
   "cell_type": "markdown",
   "metadata": {},
   "source": [
    "# Mean for week 4 season 2 is 0.233928571429"
   ]
  },
  {
   "cell_type": "code",
   "execution_count": 59,
   "metadata": {},
   "outputs": [
    {
     "data": {
      "text/plain": [
       "<matplotlib.axes._subplots.AxesSubplot at 0x7f5950e04fd0>"
      ]
     },
     "execution_count": 59,
     "metadata": {},
     "output_type": "execute_result"
    },
    {
     "data": {
      "image/png": "[encoded data removed]",
      "text/plain": [
       "<matplotlib.figure.Figure at 0x7f5950e04908>"
      ]
     },
     "metadata": {},
     "output_type": "display_data"
    }
   ],
   "source": [
    "weeksmean={\"Week 1\":[w1s2],\"Week 2\":[w2s2],\"Week 3\":[w3s2],\"Week 4\":[w4s2]}\n",
    "weeks=DataFrame(data=weeksmean)\n",
    "weeks.plot(kind='bar',figsize=(10,8),title=\"Showing Number Of Insects For Each Week\")"
   ]
  },
  {
   "cell_type": "markdown",
   "metadata": {},
   "source": [
    "# Well in Season2 Also Week 1 comprises of much more insects\n",
    "\n",
    "# If we could have some more data we could analyze that what makes these insects getting attracted in the first week and then in the another week it gradually decreases a lot .\n",
    "\n",
    "# That means there is definite some high deviation Between Week 1 and\n",
    "# Week 2 till now. "
   ]
  },
  {
   "cell_type": "markdown",
   "metadata": {},
   "source": [
    "# Season 3 Week Analysis"
   ]
  },
  {
   "cell_type": "code",
   "execution_count": 60,
   "metadata": {},
   "outputs": [
    {
     "name": "stdout",
     "output_type": "stream",
     "text": [
      "Mean for week 1 season 3 is 3.543125\n"
     ]
    }
   ],
   "source": [
    "weekone=season3.getdbm()\n",
    "c=DataFrame()\n",
    "def converting1(df):\n",
    "    return round(int(df))\n",
    "c['wk1']=weekone['wk1'].append(season3.getaphid()['wk1']).append(season3.getwhitefly()['wk1']).append(season3.getspider()['wk1']).append(season3.gethellula()['wk1']).append(season3.getladybird()['wk1'])\n",
    "#weekone=weekone['plants'].append(season3.getspider()['plants'])\n",
    "#c['wk1']=(c['wk1'].apply(converting))\n",
    "means=list()\n",
    "means1=list()\n",
    "for i in c['wk1']:\n",
    "    \n",
    "    means.append(str(i))\n",
    "    \n",
    "for i in means:\n",
    "    if(i=='nan') or i=='wk1':\n",
    "        continue;\n",
    "    x=str(i)\n",
    "    means1.append(x)\n",
    "import string\n",
    "c=string.ascii_letters\n",
    "c   \n",
    "for i in means1:\n",
    "    if i in c:\n",
    "        means1.remove(i)\n",
    "\n",
    "means1=list(map(float,means1))\n",
    "w1s3=numpy.mean(means1)\n",
    "print(\"Mean for week 1 season 3 is\",w1s3)"
   ]
  },
  {
   "cell_type": "markdown",
   "metadata": {},
   "source": [
    "# Mean for week 1 season 3 is 3.543125"
   ]
  },
  {
   "cell_type": "code",
   "execution_count": 61,
   "metadata": {},
   "outputs": [
    {
     "name": "stdout",
     "output_type": "stream",
     "text": [
      "Mean for week 2 season 3 is 0.689479166667\n"
     ]
    }
   ],
   "source": [
    "weekone=season3.getdbm()\n",
    "c=DataFrame()\n",
    "def converting1(df):\n",
    "    return round(int(df))\n",
    "c['wk2']=weekone['wk2'].append(season3.getaphid()['wk2']).append(season3.getwhitefly()['wk2']).append(season3.getspider()['wk2']).append(season3.gethellula()['wk2']).append(season3.getladybird()['wk2'])\n",
    "#weekone=weekone['plants'].append(season3.getspider()['plants'])\n",
    "#c['wk2']=(c['wk2'].apply(converting))\n",
    "means=list()\n",
    "means1=list()\n",
    "for i in c['wk2']:\n",
    "    \n",
    "    means.append(str(i))\n",
    "    \n",
    "for i in means:\n",
    "    if(i=='nan') or i=='wk2':\n",
    "        continue;\n",
    "    x=str(i)\n",
    "    means1.append(x)\n",
    "import string\n",
    "c=string.ascii_letters\n",
    "c   \n",
    "for i in means1:\n",
    "    if i in c:\n",
    "        means1.remove(i)\n",
    "\n",
    "means1=list(map(float,means1))\n",
    "w2s3=numpy.mean(means1)\n",
    "print(\"Mean for week 2 season 3 is\",w2s3)"
   ]
  },
  {
   "cell_type": "markdown",
   "metadata": {},
   "source": [
    "# Mean for week 2 season 3 is 0.689479166667"
   ]
  },
  {
   "cell_type": "code",
   "execution_count": 62,
   "metadata": {},
   "outputs": [
    {
     "name": "stdout",
     "output_type": "stream",
     "text": [
      "Mean for week 3 season 3 is 0.424270833333\n"
     ]
    }
   ],
   "source": [
    "weekone=season3.getdbm()\n",
    "c=DataFrame()\n",
    "def converting1(df):\n",
    "    return round(int(df))\n",
    "c['wk3']=weekone['wk3'].append(season3.getaphid()['wk3']).append(season3.getwhitefly()['wk3']).append(season3.getspider()['wk3']).append(season3.gethellula()['wk3']).append(season3.getladybird()['wk3'])\n",
    "#weekone=weekone['plants'].append(season3.getspider()['plants'])\n",
    "#c['wk3']=(c['wk3'].apply(converting))\n",
    "means=list()\n",
    "means1=list()\n",
    "for i in c['wk3']:\n",
    "    \n",
    "    means.append(str(i))\n",
    "    \n",
    "for i in means:\n",
    "    if(i=='nan') or i=='wk3':\n",
    "        continue;\n",
    "    x=str(i)\n",
    "    means1.append(x)\n",
    "import string\n",
    "c=string.ascii_letters\n",
    "c   \n",
    "for i in means1:\n",
    "    if i in c:\n",
    "        means1.remove(i)\n",
    "\n",
    "means1=list(map(float,means1))\n",
    "w3s3=numpy.mean(means1)\n",
    "print(\"Mean for week 3 season 3 is\",w3s3)"
   ]
  },
  {
   "cell_type": "markdown",
   "metadata": {},
   "source": [
    "# Mean for week 3 season 3 is 0.424270833333"
   ]
  },
  {
   "cell_type": "code",
   "execution_count": 63,
   "metadata": {},
   "outputs": [
    {
     "name": "stdout",
     "output_type": "stream",
     "text": [
      "Mean for week 4 season 3 is 0.238020833333\n"
     ]
    }
   ],
   "source": [
    "weekone=season3.getdbm()\n",
    "c=DataFrame()\n",
    "def converting1(df):\n",
    "    return round(int(df))\n",
    "c['wk4']=weekone['wk4'].append(season3.getaphid()['wk4']).append(season3.getwhitefly()['wk4']).append(season3.getspider()['wk4']).append(season3.gethellula()['wk4']).append(season3.getladybird()['wk4'])\n",
    "#weekone=weekone['plants'].append(season3.getspider()['plants'])\n",
    "#c['wk4']=(c['wk4'].apply(converting))\n",
    "means=list()\n",
    "means1=list()\n",
    "for i in c['wk4']:\n",
    "    \n",
    "    means.append(str(i))\n",
    "    \n",
    "for i in means:\n",
    "    if(i=='nan') or i=='wk4':\n",
    "        continue;\n",
    "    x=str(i)\n",
    "    means1.append(x)\n",
    "import string\n",
    "c=string.ascii_letters\n",
    "c   \n",
    "for i in means1:\n",
    "    if i in c:\n",
    "        means1.remove(i)\n",
    "\n",
    "means1=list(map(float,means1))\n",
    "w4s3=numpy.mean(means1)\n",
    "print(\"Mean for week 4 season 3 is\",w4s3)"
   ]
  },
  {
   "cell_type": "markdown",
   "metadata": {},
   "source": [
    "# Mean for week 4 season 3 is 0.238020833333"
   ]
  },
  {
   "cell_type": "code",
   "execution_count": 64,
   "metadata": {},
   "outputs": [
    {
     "data": {
      "text/plain": [
       "<matplotlib.axes._subplots.AxesSubplot at 0x7f5950da7e10>"
      ]
     },
     "execution_count": 64,
     "metadata": {},
     "output_type": "execute_result"
    },
    {
     "data": {
      "image/png": "[encoded data removed]",
      "text/plain": [
       "<matplotlib.figure.Figure at 0x7f5950bdefd0>"
      ]
     },
     "metadata": {},
     "output_type": "display_data"
    }
   ],
   "source": [
    "weeksmean={\"Week 1\":[w1s3],\"Week 2\":[w2s3],\"Week 3\":[w3s3],\"Week 4\":[w4s3]}\n",
    "weeks=DataFrame(data=weeksmean)\n",
    "weeks.plot(kind='bar',figsize=(10,8),title=\"Showing Number Of Insects For Each Week\")"
   ]
  },
  {
   "cell_type": "markdown",
   "metadata": {},
   "source": [
    "# Same Goes For Season 3 Also."
   ]
  },
  {
   "cell_type": "markdown",
   "metadata": {},
   "source": [
    "# Lets, See which particular Insect affect more at a particular week For Season1.\n"
   ]
  },
  {
   "cell_type": "code",
   "execution_count": 65,
   "metadata": {},
   "outputs": [
    {
     "data": {
      "text/plain": [
       "<matplotlib.axes._subplots.AxesSubplot at 0x7f5950b7f8d0>"
      ]
     },
     "execution_count": 65,
     "metadata": {},
     "output_type": "execute_result"
    },
    {
     "data": {
      "image/png": "[encoded data removed]",
      "text/plain": [
       "<matplotlib.figure.Figure at 0x7f5950b7f2b0>"
      ]
     },
     "metadata": {},
     "output_type": "display_data"
    }
   ],
   "source": [
    "c=list(season1.getdbm()['wk1'])\n",
    "c=list(map(float,c))\n",
    "dbmw1=numpy.mean(c)\n",
    "\n",
    "c=list(season1.getdbm()['wk2'])\n",
    "c=list(map(float,c))\n",
    "dbmw2=numpy.mean(c)\n",
    "\n",
    "\n",
    "c=list(season1.getdbm()['wk3'])\n",
    "c=list(map(float,c))\n",
    "dbmw3=numpy.mean(c)\n",
    "\n",
    "\n",
    "\n",
    "c=list(season1.getdbm()['wk4'])\n",
    "c=list(map(float,c))\n",
    "dbmw4=numpy.mean(c)\n",
    "\n",
    "f={\"DBM in Week 1\":[dbmw1],\"DBM in Week 2\":[dbmw2],\"DBM in Week 3\":[dbmw3],\"DBM in Week 4\":[dbmw4]}\n",
    "d=DataFrame(data=f)\n",
    "d.plot(kind='bar',figsize=(10,8),title=\"DBM In Each week For Season 1\")\n",
    "\n"
   ]
  },
  {
   "cell_type": "markdown",
   "metadata": {},
   "source": [
    "# So , Here we clearly see that DBM in week 2 gets attracted more,"
   ]
  },
  {
   "cell_type": "code",
   "execution_count": 66,
   "metadata": {},
   "outputs": [
    {
     "data": {
      "text/plain": [
       "<matplotlib.axes._subplots.AxesSubplot at 0x7f5950b544a8>"
      ]
     },
     "execution_count": 66,
     "metadata": {},
     "output_type": "execute_result"
    },
    {
     "data": {
      "image/png": "[encoded data removed]",
      "text/plain": [
       "<matplotlib.figure.Figure at 0x7f5950b82550>"
      ]
     },
     "metadata": {},
     "output_type": "display_data"
    }
   ],
   "source": [
    "c=list(season1.getaphid()['wk1'])\n",
    "c.remove('wk1')\n",
    "c=list(map(float,c))\n",
    "aphidw1=numpy.mean(c)\n",
    "\n",
    "c=list(season1.getaphid()['wk2'])\n",
    "c.remove('we2')\n",
    "aphidw2=list(map(float,c))\n",
    "aphidw2=numpy.mean(aphidw2)\n",
    "\n",
    "c=list(season1.getaphid()['wk3'])\n",
    "c.remove('wk3')\n",
    "aphidw3=list(map(float,c))\n",
    "aphidw3=numpy.mean(aphidw3)\n",
    "\n",
    "c=list(season1.getaphid()['wk4'])\n",
    "c.remove('wk4')\n",
    "aphidw4=list(map(float,c))\n",
    "aphidw4=numpy.mean(aphidw4)\n",
    "\n",
    "\n",
    "\n",
    "\n",
    "f={\"Aphid in Week 1\":[aphidw1],\"Aphid in Week 2\":[aphidw2],\"Aphid in Week 3\":[aphidw3],\"Aphid in Week 4\":[aphidw4]}\n",
    "d=DataFrame(data=f)\n",
    "d.plot(kind='bar',figsize=(10,8),title=\"Aphid In Each week For Season 1\")\n",
    "\n"
   ]
  },
  {
   "cell_type": "code",
   "execution_count": 67,
   "metadata": {},
   "outputs": [
    {
     "data": {
      "text/plain": [
       "<matplotlib.axes._subplots.AxesSubplot at 0x7f5950a70208>"
      ]
     },
     "execution_count": 67,
     "metadata": {},
     "output_type": "execute_result"
    },
    {
     "data": {
      "image/png": "[encoded data removed]",
      "text/plain": [
       "<matplotlib.figure.Figure at 0x7f5950a6eba8>"
      ]
     },
     "metadata": {},
     "output_type": "display_data"
    }
   ],
   "source": [
    "c=list(season1.getspider()['wk1'])\n",
    "c=list(map(str,c))\n",
    "c=list(filter(lambda x:x!='nan',c))\n",
    "\n",
    "c=list(map(float,c))\n",
    "spiderw1=numpy.mean(c)\n",
    "\n",
    "\n",
    "\n",
    "c=list(season1.getspider()['wk2'])\n",
    "#c.remove('we2')\n",
    "c=list(map(str,c))\n",
    "c=list(filter(lambda x:x!='nan',c))\n",
    "\n",
    "spiderw2=list(map(float,c))\n",
    "spiderw2=numpy.mean(spiderw2)\n",
    "\n",
    "c=list(season1.getspider()['wk3'])\n",
    "\n",
    "#c.remove('wk3')\n",
    "c=list(map(str,c))\n",
    "c=list(filter(lambda x:x!='nan',c))\n",
    "\n",
    "spiderw3=list(map(float,c))\n",
    "spiderw3=numpy.mean(spiderw3)\n",
    "\n",
    "c=list(season1.getspider()['wk4'])\n",
    "c=list(map(str,c))\n",
    "c=list(filter(lambda x:x!='nan',c))\n",
    "\n",
    "#c.remove('wk4')\n",
    "spiderw4=list(map(float,c))\n",
    "spiderw4=numpy.mean(spiderw4)\n",
    "\n",
    "\n",
    "\n",
    "f={\"spider in Week 1\":[spiderw1],\"spider in Week 2\":[spiderw2],\"spider in Week 3\":[spiderw3],\"spider in Week 4\":[spiderw4]}\n",
    "d=DataFrame(data=f)\n",
    "d.plot(kind='bar',figsize=(10,8),title=\"spider In Each week For Season 1\")\n",
    "\n",
    "\n"
   ]
  },
  {
   "cell_type": "markdown",
   "metadata": {},
   "source": []
  },
  {
   "cell_type": "code",
   "execution_count": 68,
   "metadata": {},
   "outputs": [
    {
     "data": {
      "text/plain": [
       "<matplotlib.axes._subplots.AxesSubplot at 0x7f5950a3a470>"
      ]
     },
     "execution_count": 68,
     "metadata": {},
     "output_type": "execute_result"
    },
    {
     "data": {
      "image/png": "[encoded data removed]",
      "text/plain": [
       "<matplotlib.figure.Figure at 0x7f5950a5d588>"
      ]
     },
     "metadata": {},
     "output_type": "display_data"
    }
   ],
   "source": [
    "c=list(season1.getladybird()['wk1'])\n",
    "c=list(map(str,c))\n",
    "c=list(filter(lambda x:x!='nan',c))\n",
    "\n",
    "c=list(map(float,c))\n",
    "ladybirdw1=numpy.mean(c)\n",
    "\n",
    "\n",
    "\n",
    "c=list(season1.getladybird()['wk2'])\n",
    "#c.remove('we2')\n",
    "c=list(map(str,c))\n",
    "c=list(filter(lambda x:x!='nan',c))\n",
    "\n",
    "ladybirdw2=list(map(float,c))\n",
    "ladybirdw2=numpy.mean(ladybirdw2)\n",
    "\n",
    "c=list(season1.getladybird()['wk3'])\n",
    "\n",
    "#c.remove('wk3')\n",
    "c=list(map(str,c))\n",
    "c=list(filter(lambda x:x!='nan',c))\n",
    "\n",
    "ladybirdw3=list(map(float,c))\n",
    "ladybirdw3=numpy.mean(ladybirdw3)\n",
    "\n",
    "c=list(season1.getladybird()['wk4'])\n",
    "c=list(map(str,c))\n",
    "c=list(filter(lambda x:x!='nan',c))\n",
    "\n",
    "#c.remove('wk4')\n",
    "ladybirdw4=list(map(float,c))\n",
    "ladybirdw4=numpy.mean(ladybirdw4)\n",
    "\n",
    "\n",
    "\n",
    "f={\"ladybird in Week 1\":[ladybirdw1],\"ladybird in Week 2\":[ladybirdw2],\"ladybird in Week 3\":[ladybirdw3],\"ladybird in Week 4\":[ladybirdw4]}\n",
    "d=DataFrame(data=f)\n",
    "d.plot(kind='bar',figsize=(10,8),title=\"ladybird In Each week For Season 1\")"
   ]
  },
  {
   "cell_type": "code",
   "execution_count": 69,
   "metadata": {},
   "outputs": [
    {
     "data": {
      "text/plain": [
       "<matplotlib.axes._subplots.AxesSubplot at 0x7f5950a12d68>"
      ]
     },
     "execution_count": 69,
     "metadata": {},
     "output_type": "execute_result"
    },
    {
     "data": {
      "image/png": "[encoded data removed]",
      "text/plain": [
       "<matplotlib.figure.Figure at 0x7f595099e1d0>"
      ]
     },
     "metadata": {},
     "output_type": "display_data"
    }
   ],
   "source": [
    "c=list(season1.gethoverfly()['wk1'])\n",
    "c=list(map(str,c))\n",
    "c=list(filter(lambda x:x!='nan',c))\n",
    "\n",
    "c=list(map(float,c))\n",
    "hoverflyw1=numpy.mean(c)\n",
    "\n",
    "\n",
    "\n",
    "c=list(season1.gethoverfly()['wk2'])\n",
    "#c.remove('we2')\n",
    "c=list(map(str,c))\n",
    "c=list(filter(lambda x:x!='nan',c))\n",
    "\n",
    "hoverflyw2=list(map(float,c))\n",
    "hoverflyw2=numpy.mean(hoverflyw2)\n",
    "\n",
    "\n",
    "c=list(season1.gethoverfly()['wk3'])\n",
    "\n",
    "#c.remove('wk3')\n",
    "c=list(map(str,c))\n",
    "c=list(filter(lambda x:x!='nan',c))\n",
    "\n",
    "hoverflyw3=list(map(float,c))\n",
    "hoverflyw3=numpy.mean(hoverflyw3)\n",
    "\n",
    "c=list(season1.gethoverfly()['wk4'])\n",
    "c=list(map(str,c))\n",
    "c=list(filter(lambda x:x!='nan',c))\n",
    "\n",
    "#c.remove('wk4')\n",
    "hoverflyw4=list(map(float,c))\n",
    "hoverflyw4=numpy.mean(hoverflyw4)\n",
    "\n",
    "\n",
    "\n",
    "f={\"hoverfly in Week 1\":[hoverflyw1],\"hoverfly in Week 2\":[hoverflyw2],\"hoverfly in Week 3\":[hoverflyw3],\"hoverfly in Week 4\":[hoverflyw4]}\n",
    "d=DataFrame(data=f)\n",
    "d.plot(kind='bar',figsize=(10,8),title=\"hoverfly In Each week For Season 1\")"
   ]
  },
  {
   "cell_type": "code",
   "execution_count": 70,
   "metadata": {},
   "outputs": [
    {
     "data": {
      "text/plain": [
       "<matplotlib.axes._subplots.AxesSubplot at 0x7f595091c550>"
      ]
     },
     "execution_count": 70,
     "metadata": {},
     "output_type": "execute_result"
    },
    {
     "data": {
      "image/png": "[encoded data removed]",
      "text/plain": [
       "<matplotlib.figure.Figure at 0x7f5950a30710>"
      ]
     },
     "metadata": {},
     "output_type": "display_data"
    }
   ],
   "source": [
    "c=list(season1.gethellula()['wk1'])\n",
    "c=list(map(str,c))\n",
    "c=list(filter(lambda x:x!='nan',c))\n",
    "\n",
    "c=list(map(float,c))\n",
    "hellulaw1=numpy.mean(c)\n",
    "\n",
    "\n",
    "\n",
    "c=list(season1.gethellula()['wk2'])\n",
    "#c.remove('we2')\n",
    "c=list(map(str,c))\n",
    "c=list(filter(lambda x:x!='nan',c))\n",
    "\n",
    "hellulaw2=list(map(float,c))\n",
    "hellulaw2=numpy.mean(hellulaw2)\n",
    "\n",
    "c=list(season1.gethellula()['wk3'])\n",
    "\n",
    "#c.remove('wk3')\n",
    "c=list(map(str,c))\n",
    "c=list(filter(lambda x:x!='nan',c))\n",
    "\n",
    "hellulaw3=list(map(float,c))\n",
    "hellulaw3=numpy.mean(hellulaw3)\n",
    "\n",
    "c=list(season1.gethellula()['wk4'])\n",
    "c=list(map(str,c))\n",
    "c=list(filter(lambda x:x!='nan',c))\n",
    "\n",
    "#c.remove('wk4')\n",
    "hellulaw4=list(map(float,c))\n",
    "hellulaw4=numpy.mean(hellulaw4)\n",
    "\n",
    "\n",
    "\n",
    "f={\"hellula in Week 1\":[hellulaw1],\"hellula in Week 2\":[hellulaw2],\"hellula in Week 3\":[hellulaw3],\"hellula in Week 4\":[hellulaw4]}\n",
    "d=DataFrame(data=f)\n",
    "d.plot(kind='bar',figsize=(10,8),title=\"hellula In Each week For Season 1\")"
   ]
  },
  {
   "cell_type": "code",
   "execution_count": 71,
   "metadata": {
    "scrolled": true
   },
   "outputs": [
    {
     "data": {
      "text/plain": [
       "<matplotlib.axes._subplots.AxesSubplot at 0x7f595092e828>"
      ]
     },
     "execution_count": 71,
     "metadata": {},
     "output_type": "execute_result"
    },
    {
     "data": {
      "image/png": "[encoded data removed]",
      "text/plain": [
       "<matplotlib.figure.Figure at 0x7f59508f8390>"
      ]
     },
     "metadata": {},
     "output_type": "display_data"
    }
   ],
   "source": [
    "c=list(season1.getwhitefly()['wk1'])\n",
    "c=list(map(str,c))\n",
    "c=list(filter(lambda x:x!='nan',c))\n",
    "\n",
    "c=list(map(float,c))\n",
    "whiteflyw1=numpy.mean(c)\n",
    "\n",
    "\n",
    "\n",
    "c=list(season1.getwhitefly()['wk2'])\n",
    "#c.remove('we2')\n",
    "c=list(map(str,c))\n",
    "c=list(filter(lambda x:x!='nan',c))\n",
    "\n",
    "whiteflyw2=list(map(float,c))\n",
    "whiteflyw2=numpy.mean(whiteflyw2)\n",
    "\n",
    "c=list(season1.getwhitefly()['wk3'])\n",
    "\n",
    "#c.remove('wk3')\n",
    "c=list(map(str,c))\n",
    "c=list(filter(lambda x:x!='nan',c))\n",
    "\n",
    "whiteflyw3=list(map(float,c))\n",
    "whiteflyw3=numpy.mean(whiteflyw3)\n",
    "\n",
    "c=list(season1.getwhitefly()['wk4'])\n",
    "c=list(map(str,c))\n",
    "c=list(filter(lambda x:x!='nan',c))\n",
    "\n",
    "#c.remove('wk4')\n",
    "whiteflyw4=list(map(float,c))\n",
    "whiteflyw4=numpy.mean(whiteflyw4)\n",
    "\n",
    "\n",
    "\n",
    "f={\"whitefly in Week 1\":[whiteflyw1],\"whitefly in Week 2\":[whiteflyw2],\"whitefly in Week 3\":[whiteflyw3],\"whitefly in Week 4\":[whiteflyw4]}\n",
    "d=DataFrame(data=f)\n",
    "d.plot(kind='bar',figsize=(10,8),title=\"whitefly In Each week For Season 1\")"
   ]
  },
  {
   "cell_type": "markdown",
   "metadata": {},
   "source": [
    "# Showing Which Insects Outnumbers Most in Week One in Season 1 that is Ladybird"
   ]
  },
  {
   "cell_type": "code",
   "execution_count": 72,
   "metadata": {},
   "outputs": [
    {
     "data": {
      "text/plain": [
       "<matplotlib.axes._subplots.AxesSubplot at 0x7f5950901ac8>"
      ]
     },
     "execution_count": 72,
     "metadata": {},
     "output_type": "execute_result"
    },
    {
     "data": {
      "image/png": "[encoded data removed]",
      "text/plain": [
       "<matplotlib.figure.Figure at 0x7f5950ab7da0>"
      ]
     },
     "metadata": {},
     "output_type": "display_data"
    }
   ],
   "source": [
    "d={\"DBM Week1\":[dbmw1],\"Aphid Week1\":[aphidw1],\"Spider Week1\":[spiderw1],\"LadyBird Week1\":[ladybirdw1],\"Hellula Week1\":[hellulaw1],\n",
    "   \"Hoverfly Week1\":[hoverflyw1],\"Whitefly Week1\":[whiteflyw1]}\n",
    "\n",
    "da=DataFrame(data=d)\n",
    "da.plot(kind='bar',figsize=(10,8),title=\"Showing Which Insects Outnumbers Most in Week One\")"
   ]
  },
  {
   "cell_type": "markdown",
   "metadata": {},
   "source": [
    "# Showing Which Insects Outnumbers Most in Week Two Season 1 DBM\n"
   ]
  },
  {
   "cell_type": "code",
   "execution_count": 73,
   "metadata": {},
   "outputs": [
    {
     "data": {
      "text/plain": [
       "<matplotlib.axes._subplots.AxesSubplot at 0x7f59507fc240>"
      ]
     },
     "execution_count": 73,
     "metadata": {},
     "output_type": "execute_result"
    },
    {
     "data": {
      "image/png": "[encoded data removed]",
      "text/plain": [
       "<matplotlib.figure.Figure at 0x7f5950ba0a20>"
      ]
     },
     "metadata": {},
     "output_type": "display_data"
    }
   ],
   "source": [
    "d={\"DBM week2\":[dbmw2],\"Aphid week2\":[aphidw2],\"Spider week2\":[spiderw2],\"LadyBird week2\":[ladybirdw2],\"Hellula week2\":[hellulaw2],\n",
    "   \"Hoverfly week2\":[hoverflyw2],\"Whitefly week2\":[whiteflyw2]}\n",
    "\n",
    "da=DataFrame(data=d)\n",
    "da.plot(kind='bar',figsize=(10,8),title=\"\")\n"
   ]
  },
  {
   "cell_type": "markdown",
   "metadata": {},
   "source": [
    "# Showing Which Insects Outnumbers Most in Week Three Season 1 Spider"
   ]
  },
  {
   "cell_type": "code",
   "execution_count": 74,
   "metadata": {},
   "outputs": [
    {
     "data": {
      "text/plain": [
       "<matplotlib.axes._subplots.AxesSubplot at 0x7f5950768128>"
      ]
     },
     "execution_count": 74,
     "metadata": {},
     "output_type": "execute_result"
    },
    {
     "data": {
      "image/png": "[encoded data removed]",
      "text/plain": [
       "<matplotlib.figure.Figure at 0x7f595075c9e8>"
      ]
     },
     "metadata": {},
     "output_type": "display_data"
    }
   ],
   "source": [
    "d={\"DBM week3\":[dbmw3],\"Aphid week3\":[aphidw3],\"Spider week3\":[spiderw3],\"LadyBird week3\":[ladybirdw3],\"Hellula week3\":[hellulaw3],\n",
    "   \"Hoverfly week3\":[hoverflyw3],\"Whitefly week3\":[whiteflyw3]}\n",
    "\n",
    "da=DataFrame(data=d)\n",
    "da.plot(kind='bar',figsize=(10,8),title=\"Showing Which Insects Outnumbers Most in Week Three\")"
   ]
  },
  {
   "cell_type": "markdown",
   "metadata": {},
   "source": [
    "# Showing Which Insects Outnumbers Most in Week Four Season 1"
   ]
  },
  {
   "cell_type": "code",
   "execution_count": 75,
   "metadata": {
    "scrolled": true
   },
   "outputs": [
    {
     "data": {
      "text/plain": [
       "<matplotlib.axes._subplots.AxesSubplot at 0x7f5950768080>"
      ]
     },
     "execution_count": 75,
     "metadata": {},
     "output_type": "execute_result"
    },
    {
     "data": {
      "image/png": "[encoded data removed]",
      "text/plain": [
       "<matplotlib.figure.Figure at 0x7f595071e4e0>"
      ]
     },
     "metadata": {},
     "output_type": "display_data"
    }
   ],
   "source": [
    "d={\"DBM week4\":[dbmw3],\"Aphid week4\":[aphidw3],\"Spider week4\":[spiderw3],\"LadyBird week4\":[ladybirdw3],\"Hellula week4\":[hellulaw3],\n",
    "   \"Hoverfly week4\":[hoverflyw3],\"Whitefly week4\":[whiteflyw3]}\n",
    "\n",
    "da=DataFrame(data=d)\n",
    "da.plot(kind='bar',figsize=(10,8),title=\"Showing Which Insects Outnumbers Most in Week Four\")"
   ]
  },
  {
   "cell_type": "markdown",
   "metadata": {},
   "source": [
    "# Let's See which particular insects in all the season at a particular week is getting attracted towards the plants"
   ]
  },
  {
   "cell_type": "code",
   "execution_count": 76,
   "metadata": {},
   "outputs": [
    {
     "name": "stderr",
     "output_type": "stream",
     "text": [
      "/usr/lib/python3/dist-packages/pandas/core/frame.py:3027: SettingWithCopyWarning: \n",
      "A value is trying to be set on a copy of a slice from a DataFrame\n",
      "\n",
      "See the caveats in the documentation: http://pandas.pydata.org/pandas-docs/stable/indexing.html#indexing-view-versus-copy\n",
      "  return super(DataFrame, self).rename(**kwargs)\n"
     ]
    },
    {
     "data": {
      "text/plain": [
       "<matplotlib.axes._subplots.AxesSubplot at 0x7f5950621b00>"
      ]
     },
     "execution_count": 76,
     "metadata": {},
     "output_type": "execute_result"
    },
    {
     "data": {
      "image/png": "[encoded data removed]",
      "text/plain": [
       "<matplotlib.figure.Figure at 0x7f597c1b2400>"
      ]
     },
     "metadata": {},
     "output_type": "display_data"
    }
   ],
   "source": [
    "season1.getaphid().rename(columns={'Aphid':'plants'},inplace=True)\n",
    "aphidall=season1.getaphid().append(season2.getaphid()).append(season3.getaphid())\n",
    "\n",
    "aphidall=list(aphidall['wk1'])\n",
    "\n",
    "\"\"\"\n",
    "import string\n",
    "for i in aphidall:\n",
    "    if i[0] in string.ascii_letters:\n",
    "        \n",
    "        aphidall.remove(i)\n",
    "\"\"\"        \n",
    "        \n",
    "#aphidall=list(map(float,aphidall))\n",
    "dbmall=season1.getdbm().append(season2.getdbm()).append(season3.getdbm())\n",
    "#print(dbmall.count())\n",
    "\n",
    "def changesfloat(temp):\n",
    "    #temp=list(df[name]);\n",
    "    for i in temp:\n",
    "        if i[0] in string.ascii_letters:\n",
    "            temp.remove(i);\n",
    "    return list(map(float,temp))\n",
    "\n",
    "aphidall=changesfloat(aphidall)\n",
    "\n",
    "\n",
    "dbmall=list(map(str,dbmall['wk1']))\n",
    "\n",
    "\n",
    "dbmall=changesfloat(dbmall)\n",
    "dbmall\n",
    "my1={'Aphid':[*aphidall],'DBM':[*dbmall]}\n",
    "\n",
    "#spiderall=season1.getspider().append(season2.getspider()).append(season3.getspider())\n",
    "spiderall=season1.getspider()\n",
    "spiderall=spiderall.append(season2.getspider())\n",
    "spiderall=spiderall.append(season3.getspider())\n",
    "\n",
    "#print(spiderall.count())\n",
    "#print(spiderall.count())\n",
    "spiderall=list(spiderall['wk1'])\n",
    "spiderall=list(map(str,spiderall))\n",
    "spiderall=changesfloat(spiderall)\n",
    "spiderall\n",
    "\n",
    "\n",
    "ladybird=season1.getspider().append(season2.getspider()).append(season3.getspider())\n",
    "ladybird=list(ladybird['wk1'])\n",
    "ladybird=list(map(str,ladybird))\n",
    "ladybird=changesfloat(ladybird)\n",
    "ladybird\n",
    "\n",
    "hellula=season1.getspider().append(season2.getspider()).append(season3.getspider())\n",
    "hellula=list(hellula['wk1'])\n",
    "hellula=list(map(str,hellula))\n",
    "hellula=changesfloat(hellula)\n",
    "hellula\n",
    "\n",
    "\n",
    "whitefly=season1.getspider().append(season2.getspider()).append(season3.getspider())\n",
    "whitefly=list(whitefly['wk1'])\n",
    "whitefly=list(map(str,whitefly))\n",
    "whitefly=changesfloat(whitefly)\n",
    "whitefly\n",
    "\n",
    "\n",
    "\n",
    "hoverfly=season1.getspider().append(season2.getspider()).append(season3.getspider())\n",
    "hoverfly=list(hoverfly['wk1'])\n",
    "hoverfly=list(map(str,hoverfly))\n",
    "hoverfly=changesfloat(hoverfly)\n",
    "hoverfly\n",
    "\n",
    "\n",
    "\n",
    "\n",
    "my1={\"Hoverfly\":[*hoverfly],'Aphid':[*aphidall],'DBM':[*dbmall],\"SPider\":[*spiderall],\"Whitefly\":[*whitefly],\"hellula\":[*hellula]}\n",
    "\n",
    "my=DataFrame(data=my1)\n",
    "aphidmean=my['Aphid'].mean()\n",
    "dbmmean=my['DBM'].mean()\n",
    "spidermean=my['SPider'].mean()\n",
    "whiteflymean=my['Whitefly'].mean()\n",
    "hellulamean=my['hellula'].mean()\n",
    "hoverflymean=my['Hoverfly'].mean()\n",
    "new1={\"Hoverfly\":[hoverflymean],\"Aphid\":[aphidmean],\"DBM\":[dbmmean],\"Whitefly\":[whiteflymean],\"Hellula\":[hellulamean]}\n",
    "new=DataFrame(data=new1)\n",
    "\n",
    "new.plot(kind='bar',figsize=(10,8),title=\"Showing the growth of the Insects Combining All the Seasons At Week 1\")\n"
   ]
  },
  {
   "cell_type": "markdown",
   "metadata": {},
   "source": [
    "# Looking at the above graph it shows that 3 Insects which shows a significant growth over the three seasons at week 1.\n",
    "\n",
    "# (Whitefly,Hoverfly,Hellula)"
   ]
  },
  {
   "cell_type": "code",
   "execution_count": 77,
   "metadata": {},
   "outputs": [
    {
     "name": "stderr",
     "output_type": "stream",
     "text": [
      "/usr/lib/python3/dist-packages/pandas/core/frame.py:3027: SettingWithCopyWarning: \n",
      "A value is trying to be set on a copy of a slice from a DataFrame\n",
      "\n",
      "See the caveats in the documentation: http://pandas.pydata.org/pandas-docs/stable/indexing.html#indexing-view-versus-copy\n",
      "  return super(DataFrame, self).rename(**kwargs)\n"
     ]
    },
    {
     "data": {
      "text/plain": [
       "<matplotlib.axes._subplots.AxesSubplot at 0x7f59505b08d0>"
      ]
     },
     "execution_count": 77,
     "metadata": {},
     "output_type": "execute_result"
    },
    {
     "data": {
      "image/png": "[encoded data removed]",
      "text/plain": [
       "<matplotlib.figure.Figure at 0x7f5950621710>"
      ]
     },
     "metadata": {},
     "output_type": "display_data"
    }
   ],
   "source": [
    "season1.getaphid().rename(columns={'Aphid':'plants'},inplace=True)\n",
    "aphidall=season1.getaphid().append(season2.getaphid()).append(season3.getaphid())\n",
    "\n",
    "aphidall=list(aphidall['wk2'])\n",
    "\n",
    "\"\"\"\n",
    "import string\n",
    "for i in aphidall:\n",
    "    if i[0] in string.ascii_letters:\n",
    "        \n",
    "        aphidall.remove(i)\n",
    "\"\"\"        \n",
    "        \n",
    "#aphidall=list(map(float,aphidall))\n",
    "dbmall=season1.getdbm().append(season2.getdbm()).append(season3.getdbm())\n",
    "#print(dbmall.count())\n",
    "\n",
    "def changesfloat(temp):\n",
    "    #temp=list(df[name]);\n",
    "    for i in temp:\n",
    "        if i[0] in string.ascii_letters:\n",
    "            temp.remove(i);\n",
    "    return list(map(float,temp))\n",
    "\n",
    "aphidall=changesfloat(aphidall)\n",
    "\n",
    "\n",
    "dbmall=list(map(str,dbmall['wk2']))\n",
    "\n",
    "\n",
    "dbmall=changesfloat(dbmall)\n",
    "dbmall\n",
    "my1={'Aphid':[*aphidall],'DBM':[*dbmall]}\n",
    "\n",
    "#spiderall=season1.getspider().append(season2.getspider()).append(season3.getspider())\n",
    "spiderall=season1.getspider()\n",
    "spiderall=spiderall.append(season2.getspider())\n",
    "spiderall=spiderall.append(season3.getspider())\n",
    "\n",
    "#print(spiderall.count())\n",
    "#print(spiderall.count())\n",
    "spiderall=list(spiderall['wk2'])\n",
    "spiderall=list(map(str,spiderall))\n",
    "spiderall=changesfloat(spiderall)\n",
    "spiderall\n",
    "\n",
    "\n",
    "ladybird=season1.getspider().append(season2.getspider()).append(season3.getspider())\n",
    "ladybird=list(ladybird['wk2'])\n",
    "ladybird=list(map(str,ladybird))\n",
    "ladybird=changesfloat(ladybird)\n",
    "ladybird\n",
    "\n",
    "hellula=season1.getspider().append(season2.getspider()).append(season3.getspider())\n",
    "hellula=list(hellula['wk2'])\n",
    "hellula=list(map(str,hellula))\n",
    "hellula=changesfloat(hellula)\n",
    "hellula\n",
    "\n",
    "\n",
    "whitefly=season1.getspider().append(season2.getspider()).append(season3.getspider())\n",
    "whitefly=list(whitefly['wk2'])\n",
    "whitefly=list(map(str,whitefly))\n",
    "whitefly=changesfloat(whitefly)\n",
    "whitefly\n",
    "\n",
    "\n",
    "\n",
    "hoverfly=season1.getspider().append(season2.getspider()).append(season3.getspider())\n",
    "hoverfly=list(hoverfly['wk2'])\n",
    "hoverfly=list(map(str,hoverfly))\n",
    "hoverfly=changesfloat(hoverfly)\n",
    "hoverfly\n",
    "\n",
    "\n",
    "\n",
    "\n",
    "my1={\"Hoverfly\":[*hoverfly],'Aphid':[*aphidall],'DBM':[*dbmall],\"SPider\":[*spiderall],\"Whitefly\":[*whitefly],\"hellula\":[*hellula]}\n",
    "\n",
    "my=DataFrame(data=my1)\n",
    "aphidmean=my['Aphid'].mean()\n",
    "dbmmean=my['DBM'].mean()\n",
    "spidermean=my['SPider'].mean()\n",
    "whiteflymean=my['Whitefly'].mean()\n",
    "hellulamean=my['hellula'].mean()\n",
    "hoverflymean=my['Hoverfly'].mean()\n",
    "new1={\"Hoverfly\":[hoverflymean],\"Aphid\":[aphidmean],\"DBM\":[dbmmean],\"Whitefly\":[whiteflymean],\"Hellula\":[hellulamean]}\n",
    "new=DataFrame(data=new1)\n",
    "\n",
    "new.plot(kind='bar',figsize=(10,8),title=\"Showing the growth of the Insects Combining All the Seasons At Week 2\")\n"
   ]
  },
  {
   "cell_type": "markdown",
   "metadata": {},
   "source": [
    "# Above Graph Depicts the insects growth at week 2 of all the seasons."
   ]
  },
  {
   "cell_type": "markdown",
   "metadata": {},
   "source": [
    "# The below graph depicts that Botanical measures have worked best over a period of two seasons that is Botanical measure have showed a significant growth for Marketable Yield."
   ]
  },
  {
   "cell_type": "code",
   "execution_count": 165,
   "metadata": {},
   "outputs": [
    {
     "data": {
      "text/plain": [
       "26.286666666666662"
      ]
     },
     "execution_count": 165,
     "metadata": {},
     "output_type": "execute_result"
    },
    {
     "data": {
      "image/png": "[encoded data removed]",
      "text/plain": [
       "<matplotlib.figure.Figure at 0x7f59500dbac8>"
      ]
     },
     "metadata": {},
     "output_type": "display_data"
    }
   ],
   "source": [
    "temp=season1.getyields().append(season2.getyields())\n",
    "botmy=temp[temp['attacktype']=='Bot']\n",
    "botmy\n",
    "waterattack=temp[temp['attacktype']=='attack'].append(temp[temp['attacktype']=='water'])\n",
    "waterattack['Marketable yield'].count()\n",
    "temp.count()\n",
    "\n",
    "temp['Marketable yield']\n",
    "waterattack=waterattack['Marketable yield']\n",
    "waterattack=list(map(str,waterattack))\n",
    "waterattack\n",
    "\n",
    "\n",
    "def convert(lis):\n",
    "    for i in lis:\n",
    "        if type(i)==type('h'):\n",
    "            lis.remove(i);\n",
    "            \n",
    "            \n",
    "            \n",
    "            \n",
    "    return lis;\n",
    "\n",
    "waterattack=convert(waterattack)\n",
    "waterattack=list(map(float,waterattack))\n",
    "waterattackmean=numpy.mean(waterattack)\n",
    "waterattackmean\n",
    "\n",
    "\n",
    "botmy=botmy['Marketable yield']\n",
    "botmy=convert(list(map(str,botmy)))\n",
    "botmy=list(map(float,botmy))\n",
    "\n",
    "botmean=numpy.mean(botmy)\n",
    "botmean\n",
    "\n",
    "\n",
    "new={\"Water Attack\":[waterattackmean],\"Botanical\":[botmean]}\n",
    "new1=DataFrame(data=new)\n",
    "new1.plot(kind='bar',title=\"Showing WHich Attack Works Best\",figsize=(10,6))\n",
    "\n",
    "\n",
    "\n"
   ]
  },
  {
   "cell_type": "code",
   "execution_count": null,
   "metadata": {},
   "outputs": [],
   "source": []
  }
 ],
 "metadata": {
  "kernelspec": {
   "display_name": "Python 3",
   "language": "python",
   "name": "python3"
  },
  "language_info": {
   "codemirror_mode": {
    "name": "ipython",
    "version": 3
   },
   "file_extension": ".py",
   "mimetype": "text/x-python",
   "name": "python",
   "nbconvert_exporter": "python",
   "pygments_lexer": "ipython3",
   "version": "3.6.5"
  }
 },
 "nbformat": 4,
 "nbformat_minor": 2
}
